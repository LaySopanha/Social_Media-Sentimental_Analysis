{
 "cells": [
  {
   "cell_type": "code",
   "execution_count": 1,
   "metadata": {},
   "outputs": [
    {
     "name": "stdout",
     "output_type": "stream",
     "text": [
      "Hadoop 3.4.1\n",
      "Source code repository https://github.com/apache/hadoop.git -r 4d7825309348956336b8f06a08322b78422849b1\n",
      "Compiled by mthakur on 2024-10-09T14:57Z\n",
      "Compiled on platform linux-x86_64\n",
      "Compiled with protoc 3.23.4\n",
      "From source with checksum 7292fe9dba5e2e44e3a9f763fce3e680\n",
      "This command was run using /C:/hadoop-3.4.1/share/hadoop/common/hadoop-common-3.4.1.jar\n"
     ]
    }
   ],
   "source": [
    "!hadoop version  # Should show version info"
   ]
  },
  {
   "cell_type": "code",
   "execution_count": 2,
   "metadata": {},
   "outputs": [
    {
     "name": "stdout",
     "output_type": "stream",
     "text": [
      "PySpark version: 3.3.2\n"
     ]
    }
   ],
   "source": [
    "# On your Windows client (VSCode)\n",
    "import pyspark\n",
    "print(\"PySpark version:\", pyspark.__version__)"
   ]
  },
  {
   "cell_type": "code",
   "execution_count": 3,
   "metadata": {},
   "outputs": [
    {
     "name": "stdout",
     "output_type": "stream",
     "text": [
      "drwxr-xr-x   - panha supergroup          0 2025-03-27 19:31 /sentiment/processed\n",
      "drwxr-xr-x   - panha supergroup          0 2025-03-27 19:31 /sentiment/raw\n",
      "drwxr-xr-x   - panha supergroup          0 2025-03-27 19:31 /sentiment/raw/reddit\n",
      "drwxr-xr-x   - panha supergroup          0 2025-03-27 19:30 /sentiment/raw/twitter\n",
      "drwxr-xr-x   - panha supergroup          0 2025-03-27 19:31 /sentiment/results\n"
     ]
    },
    {
     "name": "stderr",
     "output_type": "stream",
     "text": [
      "2025-03-27 20:38:51,956 WARN util.NativeCodeLoader: Unable to load native-hadoop library for your platform... using builtin-java classes where applicable\n"
     ]
    }
   ],
   "source": [
    "# Verify\n",
    "!hdfs dfs -ls -R /sentiment"
   ]
  },
  {
   "cell_type": "code",
   "execution_count": 4,
   "metadata": {},
   "outputs": [
    {
     "name": "stdout",
     "output_type": "stream",
     "text": [
      "SPARK_HOME: C:\\spark-3.3.2-bin-hadoop3\n",
      "HADOOP_HOME: C:\\hadoop-3.4.1\n",
      "JAVA_HOME: C:\\jdk-11.0.26.4-hotspot\n"
     ]
    }
   ],
   "source": [
    "import os\n",
    "\n",
    "os.environ[\"SPARK_HOME\"] = \"C:\\\\spark-3.3.2-bin-hadoop3\"\n",
    "os.environ[\"HADOOP_HOME\"] = \"C:\\\\hadoop-3.4.1\"\n",
    "os.environ[\"JAVA_HOME\"] = \"C:\\\\jdk-11.0.26.4-hotspot\"\n",
    "os.environ[\"PATH\"] += f\";{os.environ['SPARK_HOME']}\\\\bin;{os.environ['HADOOP_HOME']}\\\\bin\"\n",
    "\n",
    "print(\"SPARK_HOME:\", os.environ[\"SPARK_HOME\"])\n",
    "print(\"HADOOP_HOME:\", os.environ[\"HADOOP_HOME\"])\n",
    "print(\"JAVA_HOME:\", os.environ[\"JAVA_HOME\"])\n"
   ]
  },
  {
   "cell_type": "code",
   "execution_count": 5,
   "metadata": {},
   "outputs": [
    {
     "name": "stdout",
     "output_type": "stream",
     "text": [
      "✅ Spark Session Created Successfully!\n"
     ]
    }
   ],
   "source": [
    "from pyspark.sql import SparkSession\n",
    "# Adjust SparkSession configuration to match your working setup\n",
    "spark = SparkSession.builder \\\n",
    "    .master(\"spark://hadoop-master-node:7077\") \\\n",
    "    .appName(\"SentimentDemo\") \\\n",
    "    .config(\"spark.driver.memory\", \"512M\") \\\n",
    "    .config(\"spark.executor.memory\", \"512M\") \\\n",
    "    .config(\"spark.executor.cores\", \"2\") \\\n",
    "    .config(\"spark.driver.host\", \"192.168.1.1\") \\\n",
    "    .getOrCreate()\n",
    "\n",
    "print(\"✅ Spark Session Created Successfully!\")"
   ]
  },
  {
   "cell_type": "code",
   "execution_count": null,
   "metadata": {},
   "outputs": [
    {
     "name": "stderr",
     "output_type": "stream",
     "text": [
      "d:\\Download\\Anaconda\\anaconda3\\envs\\sentiment-analysis-env\\lib\\site-packages\\pyspark\\pandas\\__init__.py:49: UserWarning: 'PYARROW_IGNORE_TIMEZONE' environment variable was not set. It is required to set this environment variable to '1' in both driver and executor sides if you use pyarrow>=2.0.0. pandas-on-Spark will set it for you but it does not work if there is a Spark context already launched.\n",
      "  warnings.warn(\n"
     ]
    }
   ],
   "source": [
    "import pandas as pd\n",
    "import pyspark.pandas as ps  # Pandas API on Spark"
   ]
  },
  {
   "cell_type": "code",
   "execution_count": 7,
   "metadata": {},
   "outputs": [
    {
     "name": "stdout",
     "output_type": "stream",
     "text": [
      "Spark Test DataFrame:\n",
      "   id\n",
      "0   0\n",
      "1   1\n",
      "2   2\n",
      "3   3\n",
      "4   4\n"
     ]
    }
   ],
   "source": [
    "# Test connection\n",
    "test_df = spark.range(5).toPandas()\n",
    "print(\"Spark Test DataFrame:\")\n",
    "print(test_df)"
   ]
  },
  {
   "cell_type": "code",
   "execution_count": 13,
   "metadata": {},
   "outputs": [
    {
     "name": "stdout",
     "output_type": "stream",
     "text": [
      "Spark UI: http://hadoop-master-node:8080\n"
     ]
    }
   ],
   "source": [
    "# Show Spark cluster UI link\n",
    "print(f\"Spark UI: http://hadoop-master-node:8080\")"
   ]
  },
  {
   "cell_type": "code",
   "execution_count": 16,
   "metadata": {},
   "outputs": [
    {
     "name": "stdout",
     "output_type": "stream",
     "text": [
      "http://192.168.1.1:4040\n"
     ]
    }
   ],
   "source": [
    "# Check Spark executors' status using the Spark UI URL\n",
    "print(spark.sparkContext.uiWebUrl)\n"
   ]
  },
  {
   "cell_type": "code",
   "execution_count": 17,
   "metadata": {},
   "outputs": [],
   "source": [
    "spark.stop()\n"
   ]
  }
 ],
 "metadata": {
  "kernelspec": {
   "display_name": "sentiment-analysis-env",
   "language": "python",
   "name": "python3"
  },
  "language_info": {
   "codemirror_mode": {
    "name": "ipython",
    "version": 3
   },
   "file_extension": ".py",
   "mimetype": "text/x-python",
   "name": "python",
   "nbconvert_exporter": "python",
   "pygments_lexer": "ipython3",
   "version": "3.10.16"
  }
 },
 "nbformat": 4,
 "nbformat_minor": 2
}
