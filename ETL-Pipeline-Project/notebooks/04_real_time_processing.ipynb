{
 "cells": [
  {
   "cell_type": "code",
   "execution_count": 1,
   "metadata": {},
   "outputs": [
    {
     "name": "stderr",
     "output_type": "stream",
     "text": [
      "[nltk_data] Downloading package vader_lexicon to\n",
      "[nltk_data]     C:\\Users\\User\\AppData\\Roaming\\nltk_data...\n",
      "[nltk_data]   Package vader_lexicon is already up-to-date!\n",
      "[nltk_data] Downloading package stopwords to\n",
      "[nltk_data]     C:\\Users\\User\\AppData\\Roaming\\nltk_data...\n",
      "[nltk_data]   Package stopwords is already up-to-date!\n",
      "[nltk_data] Downloading package punkt to\n",
      "[nltk_data]     C:\\Users\\User\\AppData\\Roaming\\nltk_data...\n",
      "[nltk_data]   Package punkt is already up-to-date!\n"
     ]
    }
   ],
   "source": [
    "import praw\n",
    "import pandas as pd\n",
    "import plotly.express as px\n",
    "import plotly.graph_objects as go\n",
    "from plotly.subplots import make_subplots\n",
    "from datetime import datetime, timedelta\n",
    "import nltk\n",
    "from nltk.corpus import stopwords\n",
    "from nltk.stem import PorterStemmer\n",
    "import re\n",
    "import string\n",
    "from vaderSentiment.vaderSentiment import SentimentIntensityAnalyzer\n",
    "from pyspark.sql import SparkSession\n",
    "import os\n",
    "\n",
    "# Initialize NLTK and VADER\n",
    "nltk.download('vader_lexicon')\n",
    "nltk.download('stopwords')\n",
    "nltk.download('punkt')\n",
    "analyzer = SentimentIntensityAnalyzer()\n",
    "stop_words = set(stopwords.words('english'))\n",
    "stemmer = PorterStemmer()\n",
    "\n",
    "# Reddit API setup\n",
    "reddit = praw.Reddit(\n",
    "    client_id = '-_LwwR2GAkBuc-mvHUVSEQ',\n",
    "    client_secret = '5X25s7-NfqlEnlstXzdvHwWEKyyMfw',\n",
    "    user_agent = 'Social Media Sentiment Analysis v1.0 by /u/Massive_Strategy75'\n",
    ")"
   ]
  },
  {
   "cell_type": "code",
   "execution_count": 2,
   "metadata": {},
   "outputs": [
    {
     "name": "stdout",
     "output_type": "stream",
     "text": [
      "✅ Spark Session Created Successfully!\n"
     ]
    }
   ],
   "source": [
    "# Setup Spark environment\n",
    "os.environ[\"SPARK_HOME\"] = \"C:\\\\spark-3.3.2-bin-hadoop3\"\n",
    "os.environ[\"HADOOP_HOME\"] = \"C:\\\\hadoop-3.4.1\"\n",
    "os.environ[\"JAVA_HOME\"] = \"C:\\\\jdk-11.0.26.4-hotspot\"\n",
    "os.environ[\"PATH\"] += f\";{os.environ['SPARK_HOME']}\\\\bin;{os.environ['HADOOP_HOME']}\\\\bin\"\n",
    "\n",
    "# Create Spark session\n",
    "spark = SparkSession.builder \\\n",
    "    .master(\"spark://hadoop-master-node:7077\") \\\n",
    "    .appName(\"RedditDemo\") \\\n",
    "    .config(\"spark.driver.memory\", \"512M\") \\\n",
    "    .config(\"spark.executor.memory\", \"512M\") \\\n",
    "    .config(\"spark.executor.cores\", \"2\") \\\n",
    "    .config(\"spark.driver.host\", \"192.168.1.1\") \\\n",
    "    .getOrCreate()\n",
    "\n",
    "print(\"✅ Spark Session Created Successfully!\")\n"
   ]
  },
  {
   "cell_type": "code",
   "execution_count": 3,
   "metadata": {},
   "outputs": [],
   "source": [
    "def clean_text(text):\n",
    "    \"\"\"Clean and preprocess text\"\"\"\n",
    "    text = text.lower()\n",
    "    text = re.sub(r'http\\S+|www\\S+|https\\S+', '', text, flags=re.MULTILINE)\n",
    "    text = re.sub(r'\\@\\w+|\\#','', text)\n",
    "    text = re.sub(r'\\d+', '', text)\n",
    "    text = text.translate(str.maketrans('', '', string.punctuation))\n",
    "    tokens = nltk.word_tokenize(text)\n",
    "    tokens = [stemmer.stem(word) for word in tokens if word not in stop_words]\n",
    "    return ' '.join(tokens)"
   ]
  },
  {
   "cell_type": "code",
   "execution_count": 9,
   "metadata": {},
   "outputs": [
    {
     "name": "stdout",
     "output_type": "stream",
     "text": [
      "📥 Collecting latest posts from r/WorldNews...\n",
      "✅ Collected 100 new posts!\n"
     ]
    }
   ],
   "source": [
    "def collect_posts(limit=100):\n",
    "    \"\"\"Collect newest posts from r/WorldNews\"\"\"\n",
    "    print(\"📥 Collecting latest posts from r/WorldNews...\")\n",
    "    \n",
    "    # Get new posts\n",
    "    posts = reddit.subreddit('worldnews').new(limit=limit)\n",
    "    data = []\n",
    "    \n",
    "    for post in posts:\n",
    "        # Only get posts from last 24 hours\n",
    "        post_time = datetime.fromtimestamp(post.created_utc)\n",
    "        if datetime.now() - post_time > timedelta(days=1):\n",
    "            continue\n",
    "            \n",
    "        cleaned_text = clean_text(post.title)\n",
    "        sentiment = analyzer.polarity_scores(cleaned_text)\n",
    "        \n",
    "        data.append({\n",
    "            \"title\": post.title,\n",
    "            \"cleaned_text\": cleaned_text,\n",
    "            \"score\": post.score,\n",
    "            \"created_at\": post_time,\n",
    "            \"num_comments\": post.num_comments,\n",
    "            \"sentiment_score\": sentiment['compound'],\n",
    "            \"sentiment_label\": 'positive' if sentiment['compound'] >= 0.05 \n",
    "                             else 'negative' if sentiment['compound'] <= -0.05 \n",
    "                             else 'neutral',\n",
    "            \"collected_at\": datetime.now()\n",
    "        })\n",
    "    \n",
    "    df = pd.DataFrame(data)\n",
    "    print(f\"✅ Collected {len(df)} new posts!\")\n",
    "    return df\n",
    "\n",
    "# Collect new posts\n",
    "new_data = collect_posts(limit=100)"
   ]
  },
  {
   "cell_type": "code",
   "execution_count": 13,
   "metadata": {},
   "outputs": [
    {
     "name": "stdout",
     "output_type": "stream",
     "text": [
      "📥 Collecting latest posts from multiple subreddits...\n",
      "No existing posts found in storage\n",
      "\n",
      "✅ Collection Summary:\n",
      "- Total new posts collected: 49\n",
      "- Posts by subreddit: {'politics': 30, 'worldnews': 14, 'news': 3, 'technology': 2}\n",
      "- Time range: 2025-03-28 00:46:14 to 2025-03-28 01:44:13\n",
      "- Sentiment distribution: {'negative': 24, 'neutral': 17, 'positive': 8}\n",
      "    \n"
     ]
    }
   ],
   "source": [
    "def collect_posts(limit=100):\n",
    "    \"\"\"Collect newest posts from multiple active subreddits\"\"\"\n",
    "    print(\"📥 Collecting latest posts from multiple subreddits...\")\n",
    "    \n",
    "    # List of active subreddits to collect from\n",
    "    subreddits = [\n",
    "        'news',          # General news\n",
    "        'worldnews',     # World news\n",
    "        'politics',      # Political news\n",
    "        'technology',    # Tech news\n",
    "        'business'       # Business news\n",
    "    ]\n",
    "    \n",
    "    # Combine them into a multi-subreddit\n",
    "    subreddit = reddit.subreddit('+'.join(subreddits))\n",
    "    \n",
    "    # Get new posts\n",
    "    posts = subreddit.new(limit=limit)\n",
    "    data = []\n",
    "    \n",
    "    # Try to read existing post IDs\n",
    "    try:\n",
    "        existing_df = spark.read.parquet(\"hdfs://hadoop-master-node:9000/sentiment/reddit_processed\")\n",
    "        existing_ids = set(existing_df.select(\"post_id\").toPandas()[\"post_id\"])\n",
    "        print(f\"Found {len(existing_ids)} existing posts to check against\")\n",
    "    except:\n",
    "        existing_ids = set()\n",
    "        print(\"No existing posts found in storage\")\n",
    "    \n",
    "    current_time = datetime.now()\n",
    "    cutoff_time = current_time - timedelta(hours=1)  # Reduced to 1 hour for more frequent updates\n",
    "    \n",
    "    for post in posts:\n",
    "        post_time = datetime.fromtimestamp(post.created_utc)\n",
    "        \n",
    "        # Skip if post is too old\n",
    "        if post_time < cutoff_time:\n",
    "            continue\n",
    "            \n",
    "        # Skip if we already have this post\n",
    "        if post.id in existing_ids:\n",
    "            continue\n",
    "            \n",
    "        cleaned_text = clean_text(post.title)\n",
    "        sentiment = analyzer.polarity_scores(cleaned_text)\n",
    "        \n",
    "        data.append({\n",
    "            \"title\": post.title,\n",
    "            \"cleaned_text\": cleaned_text,\n",
    "            \"score\": post.score,\n",
    "            \"created_at\": post_time,\n",
    "            \"num_comments\": post.num_comments,\n",
    "            \"post_id\": post.id,\n",
    "            \"subreddit\": post.subreddit.display_name,  # Track which subreddit\n",
    "            \"sentiment_score\": sentiment['compound'],\n",
    "            \"sentiment\": 'positive' if sentiment['compound'] >= 0.05 \n",
    "                        else 'negative' if sentiment['compound'] <= -0.05 \n",
    "                        else 'neutral',\n",
    "            \"collected_at\": current_time\n",
    "        })\n",
    "    \n",
    "    if not data:\n",
    "        print(\"No new posts found!\")\n",
    "        return pd.DataFrame()\n",
    "        \n",
    "    df = pd.DataFrame(data)\n",
    "    \n",
    "    print(f\"\"\"\n",
    "✅ Collection Summary:\n",
    "- Total new posts collected: {len(df)}\n",
    "- Posts by subreddit: {df['subreddit'].value_counts().to_dict()}\n",
    "- Time range: {df['created_at'].min()} to {df['created_at'].max()}\n",
    "- Sentiment distribution: {df['sentiment'].value_counts().to_dict()}\n",
    "    \"\"\")\n",
    "    \n",
    "    return df\n",
    "\n",
    "new_data = collect_posts(limit=100)"
   ]
  },
  {
   "cell_type": "code",
   "execution_count": 14,
   "metadata": {},
   "outputs": [
    {
     "name": "stdout",
     "output_type": "stream",
     "text": [
      "\n",
      "💾 Saving to Hadoop...\n"
     ]
    },
    {
     "name": "stderr",
     "output_type": "stream",
     "text": [
      "d:\\Download\\Anaconda\\anaconda3\\envs\\sentiment-analysis-env\\lib\\site-packages\\pyspark\\sql\\pandas\\conversion.py:474: FutureWarning:\n",
      "\n",
      "iteritems is deprecated and will be removed in a future version. Use .items instead.\n",
      "\n",
      "d:\\Download\\Anaconda\\anaconda3\\envs\\sentiment-analysis-env\\lib\\site-packages\\pyspark\\sql\\pandas\\conversion.py:486: FutureWarning:\n",
      "\n",
      "iteritems is deprecated and will be removed in a future version. Use .items instead.\n",
      "\n"
     ]
    },
    {
     "name": "stdout",
     "output_type": "stream",
     "text": [
      "✅ Data saved successfully!\n"
     ]
    }
   ],
   "source": [
    "# Save new data\n",
    "print(\"\\n💾 Saving to Hadoop...\")\n",
    "spark_df = spark.createDataFrame(new_data)\n",
    "spark_df.write.mode(\"append\") \\\n",
    "    .partitionBy(\"collected_at\") \\\n",
    "    .parquet(\"hdfs://hadoop-master-node:9000/sentiment/results/reddit\")\n",
    "\n",
    "print(\"✅ Data saved successfully!\")"
   ]
  },
  {
   "cell_type": "code",
   "execution_count": 15,
   "metadata": {},
   "outputs": [
    {
     "name": "stdout",
     "output_type": "stream",
     "text": [
      "Data spans 0 days. Using Hourly aggregation.\n"
     ]
    },
    {
     "name": "stderr",
     "output_type": "stream",
     "text": [
      "d:\\Download\\Anaconda\\anaconda3\\envs\\sentiment-analysis-env\\lib\\site-packages\\pyspark\\sql\\pandas\\conversion.py:248: FutureWarning:\n",
      "\n",
      "Passing unit-less datetime64 dtype to .astype is deprecated and will raise in a future version. Pass 'datetime64[ns]' instead\n",
      "\n"
     ]
    },
    {
     "data": {
      "application/vnd.plotly.v1+json": {
       "config": {
        "plotlyServerURL": "https://plot.ly"
       },
       "data": [
        {
         "line": {
          "color": "green"
         },
         "mode": "lines+markers",
         "name": "Positive",
         "type": "scatter",
         "x": [
          "2025-03-27T05:00:00.000000000",
          "2025-03-27T06:00:00.000000000",
          "2025-03-27T07:00:00.000000000",
          "2025-03-27T09:00:00.000000000",
          "2025-03-27T10:00:00.000000000",
          "2025-03-27T11:00:00.000000000",
          "2025-03-27T13:00:00.000000000",
          "2025-03-27T14:00:00.000000000",
          "2025-03-27T15:00:00.000000000",
          "2025-03-27T16:00:00.000000000",
          "2025-03-27T17:00:00.000000000",
          "2025-03-27T18:00:00.000000000",
          "2025-03-27T19:00:00.000000000",
          "2025-03-27T20:00:00.000000000",
          "2025-03-27T21:00:00.000000000",
          "2025-03-27T22:00:00.000000000",
          "2025-03-27T23:00:00.000000000",
          "2025-03-28T00:00:00.000000000",
          "2025-03-28T01:00:00.000000000"
         ],
         "xaxis": "x",
         "y": {
          "bdata": "AAAAAAAAAAAAAAAAAAAAQAAAAAAAAAAAAAAAAAAAAAAAAAAAAAAAAAAAAAAAAAAAAAAAAAAAAEAAAAAAAAAAAAAAAAAAAAAAAAAAAAAAAAAAAAAAAAAAAAAAAAAAABBAAAAAAAAAAEAAAAAAAAAAQAAAAAAAAAAAAAAAAAAAAEAAAAAAAAAAQAAAAAAAABhAAAAAAAAAAAA=",
          "dtype": "f8"
         },
         "yaxis": "y"
        },
        {
         "line": {
          "color": "red"
         },
         "mode": "lines+markers",
         "name": "Negative",
         "type": "scatter",
         "x": [
          "2025-03-27T05:00:00.000000000",
          "2025-03-27T06:00:00.000000000",
          "2025-03-27T07:00:00.000000000",
          "2025-03-27T09:00:00.000000000",
          "2025-03-27T10:00:00.000000000",
          "2025-03-27T11:00:00.000000000",
          "2025-03-27T13:00:00.000000000",
          "2025-03-27T14:00:00.000000000",
          "2025-03-27T15:00:00.000000000",
          "2025-03-27T16:00:00.000000000",
          "2025-03-27T17:00:00.000000000",
          "2025-03-27T18:00:00.000000000",
          "2025-03-27T19:00:00.000000000",
          "2025-03-27T20:00:00.000000000",
          "2025-03-27T21:00:00.000000000",
          "2025-03-27T22:00:00.000000000",
          "2025-03-27T23:00:00.000000000",
          "2025-03-28T00:00:00.000000000",
          "2025-03-28T01:00:00.000000000"
         ],
         "xaxis": "x",
         "y": {
          "bdata": "AAAAAAAAIEAAAAAAAAAAQAAAAAAAAABAAAAAAAAAEEAAAAAAAAAAAAAAAAAAAABAAAAAAAAAAAAAAAAAAAAAQAAAAAAAAABAAAAAAAAAEEAAAAAAAAAQQAAAAAAAACxAAAAAAAAAJEAAAAAAAAAsQAAAAAAAAABAAAAAAAAAKEAAAAAAAAAAAAAAAAAAABBAAAAAAAAAJEA=",
          "dtype": "f8"
         },
         "yaxis": "y"
        },
        {
         "line": {
          "color": "gray"
         },
         "mode": "lines+markers",
         "name": "Neutral",
         "type": "scatter",
         "x": [
          "2025-03-27T05:00:00.000000000",
          "2025-03-27T06:00:00.000000000",
          "2025-03-27T07:00:00.000000000",
          "2025-03-27T09:00:00.000000000",
          "2025-03-27T10:00:00.000000000",
          "2025-03-27T11:00:00.000000000",
          "2025-03-27T13:00:00.000000000",
          "2025-03-27T14:00:00.000000000",
          "2025-03-27T15:00:00.000000000",
          "2025-03-27T16:00:00.000000000",
          "2025-03-27T17:00:00.000000000",
          "2025-03-27T18:00:00.000000000",
          "2025-03-27T19:00:00.000000000",
          "2025-03-27T20:00:00.000000000",
          "2025-03-27T21:00:00.000000000",
          "2025-03-27T22:00:00.000000000",
          "2025-03-27T23:00:00.000000000",
          "2025-03-28T00:00:00.000000000",
          "2025-03-28T01:00:00.000000000"
         ],
         "xaxis": "x",
         "y": {
          "bdata": "AAAAAAAAAEAAAAAAAAAQQAAAAAAAABBAAAAAAAAAIEAAAAAAAAAQQAAAAAAAABBAAAAAAAAAEEAAAAAAAAAAQAAAAAAAAABAAAAAAAAAAAAAAAAAAAAYQAAAAAAAABhAAAAAAAAAGEAAAAAAAAAQQAAAAAAAABhAAAAAAAAAAEAAAAAAAAAYQAAAAAAAACBAAAAAAAAAEEA=",
          "dtype": "f8"
         },
         "yaxis": "y"
        },
        {
         "boxpoints": "outliers",
         "name": "Post Scores",
         "type": "box",
         "x": [
          null,
          null,
          null,
          null,
          null,
          null,
          null,
          null,
          null,
          null,
          null,
          null,
          null,
          null,
          null,
          null,
          null,
          null,
          null,
          null,
          null,
          null,
          null,
          null,
          null,
          null,
          null,
          null,
          null,
          null,
          null,
          null,
          null,
          null,
          null,
          null,
          null,
          null,
          null,
          null,
          null,
          null,
          null,
          null,
          null,
          null,
          null,
          null,
          null,
          "neutral",
          "neutral",
          "negative",
          "neutral",
          "positive",
          "negative",
          "negative",
          "neutral",
          "negative",
          "neutral",
          "positive",
          "negative",
          "neutral",
          "neutral",
          "negative",
          "negative",
          "negative",
          "negative",
          "negative",
          "neutral",
          "neutral",
          "negative",
          "neutral",
          "neutral",
          "neutral",
          "negative",
          "negative",
          "negative",
          "neutral",
          "negative",
          "neutral",
          "neutral",
          "neutral",
          "neutral",
          "negative",
          "negative",
          "negative",
          "positive",
          "neutral",
          "negative",
          "positive",
          "neutral",
          "neutral",
          "neutral",
          "positive",
          "neutral",
          "neutral",
          "negative",
          "neutral",
          "negative",
          "neutral",
          "negative",
          "negative",
          "neutral",
          "negative",
          "neutral",
          "negative",
          "positive",
          "negative",
          "neutral",
          "negative",
          "negative",
          "negative",
          "negative",
          "neutral",
          "negative",
          "negative",
          "neutral",
          "negative",
          "positive",
          "negative",
          "positive",
          "positive",
          "neutral",
          "neutral",
          "neutral",
          "negative",
          "neutral",
          "neutral",
          "neutral",
          "negative",
          "negative",
          "neutral",
          "neutral",
          "neutral",
          "negative",
          "neutral",
          "positive",
          "neutral",
          "negative",
          "neutral",
          "positive",
          "neutral",
          "neutral",
          "negative",
          "negative",
          "negative",
          "negative",
          "negative",
          "neutral",
          "negative",
          "neutral",
          "positive",
          "negative",
          "neutral",
          "negative",
          "positive",
          "negative",
          "neutral",
          "negative",
          "positive",
          "negative",
          "neutral",
          "negative",
          "neutral",
          "neutral",
          "negative",
          "negative",
          "neutral",
          "negative",
          "negative",
          "neutral",
          "negative",
          "negative",
          "neutral",
          "negative",
          "negative",
          "negative",
          "neutral",
          "negative",
          "negative",
          "negative",
          "negative",
          "negative",
          "negative",
          "negative",
          "positive",
          "neutral",
          "negative",
          "neutral",
          "negative",
          "negative",
          "negative",
          "neutral",
          "negative",
          "negative",
          "neutral",
          "negative",
          "neutral",
          "neutral",
          "negative",
          "negative",
          "neutral",
          "negative",
          "negative",
          "positive",
          "negative",
          "neutral",
          "neutral",
          "positive",
          "neutral",
          "neutral",
          "neutral",
          "neutral",
          "neutral",
          "negative",
          "neutral",
          "neutral",
          "negative",
          "neutral",
          "neutral",
          "positive",
          "negative",
          "neutral",
          "positive",
          "negative",
          "positive",
          "negative",
          "negative",
          "positive",
          "negative",
          "neutral",
          "neutral",
          "negative",
          "negative",
          "neutral",
          "negative",
          "neutral",
          "neutral",
          "negative",
          "positive",
          "negative",
          "negative",
          "neutral",
          "negative",
          "negative",
          "neutral",
          "neutral",
          "negative",
          "negative"
         ],
         "xaxis": "x2",
         "y": {
          "bdata": "EQAFAD0AEgINALsASwAFABgACgBeAUgAFwAFABAABgACAAgABAAaAAAADwArAAAAKwADAAMAAgAAAAIACQAYAGoABAAAAB0AJgAgABkASABOAAsANwAFAAsABAAAACkADQBGAAAArgrxC0MADgBpBDoAYhgNACIAJAATABYAGgAEABoAPgDvADMADQD2AUcAAgAcAA0A4gAwANMRsQDzAO4BNgB9UAAAFAAZAAMAIAAGAKYBTAQ0GTgAmAI4AIIAFwANAPkBMgEQAGwEOABdABgoJwAPALEC2gUTABsAIAB8ClcAiAZvEmkFCgDOAgkAwgIiADgAMgCKYywAIQAtBIEAGABVGAsAHAAGAe0BUgAiAAYB7QFTACMAzQGJAx4BEwAOAN8AMAAVALIK8QtEAAoALgAaAKkAXgAtABkAqQBcANMRrwDwAO4BHgCgAGQFIgCVClQAlwYoAE4AMAAwAiQATQAuADMCAQAYAGcAIAAjAAIAHwAGAJADHwERAAwAelACAF0AOigmADEAm2MqALAC3QUTAG4AHQAxAA4ANgCPAjUACQAnACgEuhgUAAgAKgAiABMAFgCOAQIAAgAQAKMAJAB8EnIAHgA2AAwAywESABoAFgAmADEBAQADACMAFADXADMAagAhAB8AMwQVADwA",
          "dtype": "i2"
         },
         "yaxis": "y2"
        },
        {
         "name": "Total Posts",
         "text": {
          "bdata": "AAAAAAAAWEAAAAAAAIBUQAAAAAAAADZA",
          "dtype": "f8"
         },
         "textposition": "auto",
         "type": "bar",
         "x": [
          "negative",
          "neutral",
          "positive"
         ],
         "xaxis": "x3",
         "y": {
          "bdata": "YFIW",
          "dtype": "i1"
         },
         "yaxis": "y3"
        },
        {
         "line": {
          "color": "green"
         },
         "name": "Positive (Hourly)",
         "type": "scatter",
         "x": {
          "bdata": "AAEFBgcJCgsNDg8QERITFBUWFw==",
          "dtype": "i1"
         },
         "xaxis": "x4",
         "y": {
          "bdata": "AAAAAAAAGEAAAAAAAAAAAAAAAAAAAAAAAAAAAAAAAEAAAAAAAAAAAAAAAAAAAAAAAAAAAAAAAAAAAAAAAAAAAAAAAAAAAABAAAAAAAAAAAAAAAAAAAAAAAAAAAAAAAAAAAAAAAAAAAAAAAAAAAAQQAAAAAAAAABAAAAAAAAAAEAAAAAAAAAAAAAAAAAAAABAAAAAAAAAAEA=",
          "dtype": "f8"
         },
         "yaxis": "y4"
        },
        {
         "line": {
          "color": "red"
         },
         "name": "Negative (Hourly)",
         "type": "scatter",
         "x": {
          "bdata": "AAEFBgcJCgsNDg8QERITFBUWFw==",
          "dtype": "i1"
         },
         "xaxis": "x4",
         "y": {
          "bdata": "AAAAAAAAEEAAAAAAAAAkQAAAAAAAACBAAAAAAAAAAEAAAAAAAAAAQAAAAAAAABBAAAAAAAAAAAAAAAAAAAAAQAAAAAAAAAAAAAAAAAAAAEAAAAAAAAAAQAAAAAAAABBAAAAAAAAAEEAAAAAAAAAsQAAAAAAAACRAAAAAAAAALEAAAAAAAAAAQAAAAAAAAChAAAAAAAAAAAA=",
          "dtype": "f8"
         },
         "yaxis": "y4"
        },
        {
         "line": {
          "color": "gray"
         },
         "name": "Neutral (Hourly)",
         "type": "scatter",
         "x": {
          "bdata": "AAEFBgcJCgsNDg8QERITFBUWFw==",
          "dtype": "i1"
         },
         "xaxis": "x4",
         "y": {
          "bdata": "AAAAAAAAIEAAAAAAAAAQQAAAAAAAAABAAAAAAAAAEEAAAAAAAAAQQAAAAAAAACBAAAAAAAAAEEAAAAAAAAAQQAAAAAAAABBAAAAAAAAAAEAAAAAAAAAAQAAAAAAAAAAAAAAAAAAAGEAAAAAAAAAYQAAAAAAAABhAAAAAAAAAEEAAAAAAAAAYQAAAAAAAAABAAAAAAAAAGEA=",
          "dtype": "f8"
         },
         "yaxis": "y4"
        }
       ],
       "layout": {
        "annotations": [
         {
          "font": {
           "size": 16
          },
          "showarrow": false,
          "text": "Sentiment Trends (Hourly)",
          "x": 0.225,
          "xanchor": "center",
          "xref": "paper",
          "y": 1,
          "yanchor": "bottom",
          "yref": "paper"
         },
         {
          "font": {
           "size": 16
          },
          "showarrow": false,
          "text": "Post Engagement by Sentiment",
          "x": 0.775,
          "xanchor": "center",
          "xref": "paper",
          "y": 1,
          "yanchor": "bottom",
          "yref": "paper"
         },
         {
          "font": {
           "size": 16
          },
          "showarrow": false,
          "text": "Overall Sentiment Distribution",
          "x": 0.225,
          "xanchor": "center",
          "xref": "paper",
          "y": 0.375,
          "yanchor": "bottom",
          "yref": "paper"
         },
         {
          "font": {
           "size": 16
          },
          "showarrow": false,
          "text": "Sentiment Pattern (Hourly)",
          "x": 0.775,
          "xanchor": "center",
          "xref": "paper",
          "y": 0.375,
          "yanchor": "bottom",
          "yref": "paper"
         }
        ],
        "height": 800,
        "hovermode": "x unified",
        "legend": {
         "x": 1.05,
         "xanchor": "left",
         "y": 0.99,
         "yanchor": "top"
        },
        "showlegend": true,
        "template": {
         "data": {
          "bar": [
           {
            "error_x": {
             "color": "#2a3f5f"
            },
            "error_y": {
             "color": "#2a3f5f"
            },
            "marker": {
             "line": {
              "color": "#E5ECF6",
              "width": 0.5
             },
             "pattern": {
              "fillmode": "overlay",
              "size": 10,
              "solidity": 0.2
             }
            },
            "type": "bar"
           }
          ],
          "barpolar": [
           {
            "marker": {
             "line": {
              "color": "#E5ECF6",
              "width": 0.5
             },
             "pattern": {
              "fillmode": "overlay",
              "size": 10,
              "solidity": 0.2
             }
            },
            "type": "barpolar"
           }
          ],
          "carpet": [
           {
            "aaxis": {
             "endlinecolor": "#2a3f5f",
             "gridcolor": "white",
             "linecolor": "white",
             "minorgridcolor": "white",
             "startlinecolor": "#2a3f5f"
            },
            "baxis": {
             "endlinecolor": "#2a3f5f",
             "gridcolor": "white",
             "linecolor": "white",
             "minorgridcolor": "white",
             "startlinecolor": "#2a3f5f"
            },
            "type": "carpet"
           }
          ],
          "choropleth": [
           {
            "colorbar": {
             "outlinewidth": 0,
             "ticks": ""
            },
            "type": "choropleth"
           }
          ],
          "contour": [
           {
            "colorbar": {
             "outlinewidth": 0,
             "ticks": ""
            },
            "colorscale": [
             [
              0,
              "#0d0887"
             ],
             [
              0.1111111111111111,
              "#46039f"
             ],
             [
              0.2222222222222222,
              "#7201a8"
             ],
             [
              0.3333333333333333,
              "#9c179e"
             ],
             [
              0.4444444444444444,
              "#bd3786"
             ],
             [
              0.5555555555555556,
              "#d8576b"
             ],
             [
              0.6666666666666666,
              "#ed7953"
             ],
             [
              0.7777777777777778,
              "#fb9f3a"
             ],
             [
              0.8888888888888888,
              "#fdca26"
             ],
             [
              1,
              "#f0f921"
             ]
            ],
            "type": "contour"
           }
          ],
          "contourcarpet": [
           {
            "colorbar": {
             "outlinewidth": 0,
             "ticks": ""
            },
            "type": "contourcarpet"
           }
          ],
          "heatmap": [
           {
            "colorbar": {
             "outlinewidth": 0,
             "ticks": ""
            },
            "colorscale": [
             [
              0,
              "#0d0887"
             ],
             [
              0.1111111111111111,
              "#46039f"
             ],
             [
              0.2222222222222222,
              "#7201a8"
             ],
             [
              0.3333333333333333,
              "#9c179e"
             ],
             [
              0.4444444444444444,
              "#bd3786"
             ],
             [
              0.5555555555555556,
              "#d8576b"
             ],
             [
              0.6666666666666666,
              "#ed7953"
             ],
             [
              0.7777777777777778,
              "#fb9f3a"
             ],
             [
              0.8888888888888888,
              "#fdca26"
             ],
             [
              1,
              "#f0f921"
             ]
            ],
            "type": "heatmap"
           }
          ],
          "histogram": [
           {
            "marker": {
             "pattern": {
              "fillmode": "overlay",
              "size": 10,
              "solidity": 0.2
             }
            },
            "type": "histogram"
           }
          ],
          "histogram2d": [
           {
            "colorbar": {
             "outlinewidth": 0,
             "ticks": ""
            },
            "colorscale": [
             [
              0,
              "#0d0887"
             ],
             [
              0.1111111111111111,
              "#46039f"
             ],
             [
              0.2222222222222222,
              "#7201a8"
             ],
             [
              0.3333333333333333,
              "#9c179e"
             ],
             [
              0.4444444444444444,
              "#bd3786"
             ],
             [
              0.5555555555555556,
              "#d8576b"
             ],
             [
              0.6666666666666666,
              "#ed7953"
             ],
             [
              0.7777777777777778,
              "#fb9f3a"
             ],
             [
              0.8888888888888888,
              "#fdca26"
             ],
             [
              1,
              "#f0f921"
             ]
            ],
            "type": "histogram2d"
           }
          ],
          "histogram2dcontour": [
           {
            "colorbar": {
             "outlinewidth": 0,
             "ticks": ""
            },
            "colorscale": [
             [
              0,
              "#0d0887"
             ],
             [
              0.1111111111111111,
              "#46039f"
             ],
             [
              0.2222222222222222,
              "#7201a8"
             ],
             [
              0.3333333333333333,
              "#9c179e"
             ],
             [
              0.4444444444444444,
              "#bd3786"
             ],
             [
              0.5555555555555556,
              "#d8576b"
             ],
             [
              0.6666666666666666,
              "#ed7953"
             ],
             [
              0.7777777777777778,
              "#fb9f3a"
             ],
             [
              0.8888888888888888,
              "#fdca26"
             ],
             [
              1,
              "#f0f921"
             ]
            ],
            "type": "histogram2dcontour"
           }
          ],
          "mesh3d": [
           {
            "colorbar": {
             "outlinewidth": 0,
             "ticks": ""
            },
            "type": "mesh3d"
           }
          ],
          "parcoords": [
           {
            "line": {
             "colorbar": {
              "outlinewidth": 0,
              "ticks": ""
             }
            },
            "type": "parcoords"
           }
          ],
          "pie": [
           {
            "automargin": true,
            "type": "pie"
           }
          ],
          "scatter": [
           {
            "fillpattern": {
             "fillmode": "overlay",
             "size": 10,
             "solidity": 0.2
            },
            "type": "scatter"
           }
          ],
          "scatter3d": [
           {
            "line": {
             "colorbar": {
              "outlinewidth": 0,
              "ticks": ""
             }
            },
            "marker": {
             "colorbar": {
              "outlinewidth": 0,
              "ticks": ""
             }
            },
            "type": "scatter3d"
           }
          ],
          "scattercarpet": [
           {
            "marker": {
             "colorbar": {
              "outlinewidth": 0,
              "ticks": ""
             }
            },
            "type": "scattercarpet"
           }
          ],
          "scattergeo": [
           {
            "marker": {
             "colorbar": {
              "outlinewidth": 0,
              "ticks": ""
             }
            },
            "type": "scattergeo"
           }
          ],
          "scattergl": [
           {
            "marker": {
             "colorbar": {
              "outlinewidth": 0,
              "ticks": ""
             }
            },
            "type": "scattergl"
           }
          ],
          "scattermap": [
           {
            "marker": {
             "colorbar": {
              "outlinewidth": 0,
              "ticks": ""
             }
            },
            "type": "scattermap"
           }
          ],
          "scattermapbox": [
           {
            "marker": {
             "colorbar": {
              "outlinewidth": 0,
              "ticks": ""
             }
            },
            "type": "scattermapbox"
           }
          ],
          "scatterpolar": [
           {
            "marker": {
             "colorbar": {
              "outlinewidth": 0,
              "ticks": ""
             }
            },
            "type": "scatterpolar"
           }
          ],
          "scatterpolargl": [
           {
            "marker": {
             "colorbar": {
              "outlinewidth": 0,
              "ticks": ""
             }
            },
            "type": "scatterpolargl"
           }
          ],
          "scatterternary": [
           {
            "marker": {
             "colorbar": {
              "outlinewidth": 0,
              "ticks": ""
             }
            },
            "type": "scatterternary"
           }
          ],
          "surface": [
           {
            "colorbar": {
             "outlinewidth": 0,
             "ticks": ""
            },
            "colorscale": [
             [
              0,
              "#0d0887"
             ],
             [
              0.1111111111111111,
              "#46039f"
             ],
             [
              0.2222222222222222,
              "#7201a8"
             ],
             [
              0.3333333333333333,
              "#9c179e"
             ],
             [
              0.4444444444444444,
              "#bd3786"
             ],
             [
              0.5555555555555556,
              "#d8576b"
             ],
             [
              0.6666666666666666,
              "#ed7953"
             ],
             [
              0.7777777777777778,
              "#fb9f3a"
             ],
             [
              0.8888888888888888,
              "#fdca26"
             ],
             [
              1,
              "#f0f921"
             ]
            ],
            "type": "surface"
           }
          ],
          "table": [
           {
            "cells": {
             "fill": {
              "color": "#EBF0F8"
             },
             "line": {
              "color": "white"
             }
            },
            "header": {
             "fill": {
              "color": "#C8D4E3"
             },
             "line": {
              "color": "white"
             }
            },
            "type": "table"
           }
          ]
         },
         "layout": {
          "annotationdefaults": {
           "arrowcolor": "#2a3f5f",
           "arrowhead": 0,
           "arrowwidth": 1
          },
          "autotypenumbers": "strict",
          "coloraxis": {
           "colorbar": {
            "outlinewidth": 0,
            "ticks": ""
           }
          },
          "colorscale": {
           "diverging": [
            [
             0,
             "#8e0152"
            ],
            [
             0.1,
             "#c51b7d"
            ],
            [
             0.2,
             "#de77ae"
            ],
            [
             0.3,
             "#f1b6da"
            ],
            [
             0.4,
             "#fde0ef"
            ],
            [
             0.5,
             "#f7f7f7"
            ],
            [
             0.6,
             "#e6f5d0"
            ],
            [
             0.7,
             "#b8e186"
            ],
            [
             0.8,
             "#7fbc41"
            ],
            [
             0.9,
             "#4d9221"
            ],
            [
             1,
             "#276419"
            ]
           ],
           "sequential": [
            [
             0,
             "#0d0887"
            ],
            [
             0.1111111111111111,
             "#46039f"
            ],
            [
             0.2222222222222222,
             "#7201a8"
            ],
            [
             0.3333333333333333,
             "#9c179e"
            ],
            [
             0.4444444444444444,
             "#bd3786"
            ],
            [
             0.5555555555555556,
             "#d8576b"
            ],
            [
             0.6666666666666666,
             "#ed7953"
            ],
            [
             0.7777777777777778,
             "#fb9f3a"
            ],
            [
             0.8888888888888888,
             "#fdca26"
            ],
            [
             1,
             "#f0f921"
            ]
           ],
           "sequentialminus": [
            [
             0,
             "#0d0887"
            ],
            [
             0.1111111111111111,
             "#46039f"
            ],
            [
             0.2222222222222222,
             "#7201a8"
            ],
            [
             0.3333333333333333,
             "#9c179e"
            ],
            [
             0.4444444444444444,
             "#bd3786"
            ],
            [
             0.5555555555555556,
             "#d8576b"
            ],
            [
             0.6666666666666666,
             "#ed7953"
            ],
            [
             0.7777777777777778,
             "#fb9f3a"
            ],
            [
             0.8888888888888888,
             "#fdca26"
            ],
            [
             1,
             "#f0f921"
            ]
           ]
          },
          "colorway": [
           "#636efa",
           "#EF553B",
           "#00cc96",
           "#ab63fa",
           "#FFA15A",
           "#19d3f3",
           "#FF6692",
           "#B6E880",
           "#FF97FF",
           "#FECB52"
          ],
          "font": {
           "color": "#2a3f5f"
          },
          "geo": {
           "bgcolor": "white",
           "lakecolor": "white",
           "landcolor": "#E5ECF6",
           "showlakes": true,
           "showland": true,
           "subunitcolor": "white"
          },
          "hoverlabel": {
           "align": "left"
          },
          "hovermode": "closest",
          "mapbox": {
           "style": "light"
          },
          "paper_bgcolor": "white",
          "plot_bgcolor": "#E5ECF6",
          "polar": {
           "angularaxis": {
            "gridcolor": "white",
            "linecolor": "white",
            "ticks": ""
           },
           "bgcolor": "#E5ECF6",
           "radialaxis": {
            "gridcolor": "white",
            "linecolor": "white",
            "ticks": ""
           }
          },
          "scene": {
           "xaxis": {
            "backgroundcolor": "#E5ECF6",
            "gridcolor": "white",
            "gridwidth": 2,
            "linecolor": "white",
            "showbackground": true,
            "ticks": "",
            "zerolinecolor": "white"
           },
           "yaxis": {
            "backgroundcolor": "#E5ECF6",
            "gridcolor": "white",
            "gridwidth": 2,
            "linecolor": "white",
            "showbackground": true,
            "ticks": "",
            "zerolinecolor": "white"
           },
           "zaxis": {
            "backgroundcolor": "#E5ECF6",
            "gridcolor": "white",
            "gridwidth": 2,
            "linecolor": "white",
            "showbackground": true,
            "ticks": "",
            "zerolinecolor": "white"
           }
          },
          "shapedefaults": {
           "line": {
            "color": "#2a3f5f"
           }
          },
          "ternary": {
           "aaxis": {
            "gridcolor": "white",
            "linecolor": "white",
            "ticks": ""
           },
           "baxis": {
            "gridcolor": "white",
            "linecolor": "white",
            "ticks": ""
           },
           "bgcolor": "#E5ECF6",
           "caxis": {
            "gridcolor": "white",
            "linecolor": "white",
            "ticks": ""
           }
          },
          "title": {
           "x": 0.05
          },
          "xaxis": {
           "automargin": true,
           "gridcolor": "white",
           "linecolor": "white",
           "ticks": "",
           "title": {
            "standoff": 15
           },
           "zerolinecolor": "white",
           "zerolinewidth": 2
          },
          "yaxis": {
           "automargin": true,
           "gridcolor": "white",
           "linecolor": "white",
           "ticks": "",
           "title": {
            "standoff": 15
           },
           "zerolinecolor": "white",
           "zerolinewidth": 2
          }
         }
        },
        "title": {
         "text": "Reddit WorldNews Sentiment Analysis Dashboard (Hourly View)",
         "x": 0.5,
         "y": 0.95
        },
        "width": 1200,
        "xaxis": {
         "anchor": "y",
         "domain": [
          0,
          0.45
         ],
         "rangeslider": {
          "visible": true
         },
         "title": {
          "text": "Time"
         }
        },
        "xaxis2": {
         "anchor": "y2",
         "domain": [
          0.55,
          1
         ],
         "title": {
          "text": "Sentiment"
         }
        },
        "xaxis3": {
         "anchor": "y3",
         "domain": [
          0,
          0.45
         ],
         "title": {
          "text": "Sentiment"
         }
        },
        "xaxis4": {
         "anchor": "y4",
         "domain": [
          0.55,
          1
         ],
         "title": {
          "text": "Hour of Day"
         }
        },
        "yaxis": {
         "anchor": "x",
         "domain": [
          0.625,
          1
         ],
         "title": {
          "text": "Number of Posts"
         }
        },
        "yaxis2": {
         "anchor": "x2",
         "domain": [
          0.625,
          1
         ],
         "title": {
          "text": "Post Score"
         }
        },
        "yaxis3": {
         "anchor": "x3",
         "domain": [
          0,
          0.375
         ],
         "title": {
          "text": "Number of Posts"
         }
        },
        "yaxis4": {
         "anchor": "x4",
         "domain": [
          0,
          0.375
         ],
         "title": {
          "text": "Number of Posts"
         }
        }
       }
      }
     },
     "metadata": {},
     "output_type": "display_data"
    },
    {
     "name": "stdout",
     "output_type": "stream",
     "text": [
      "\n",
      "📊 Hourly Summary:\n",
      "--------------------------------------------------\n",
      "\n",
      "Sentiment Distribution per Hourly:\n",
      "created_at\n",
      "2025-03-27 05:00:00                   {'negative': 8, 'neutral': 2}\n",
      "2025-03-27 06:00:00    {'neutral': 4, 'positive': 2, 'negative': 2}\n",
      "2025-03-27 07:00:00                   {'neutral': 4, 'negative': 2}\n",
      "2025-03-27 08:00:00                                              {}\n",
      "2025-03-27 09:00:00                   {'neutral': 8, 'negative': 4}\n",
      "Freq: H, Name: sentiment_label, dtype: object\n",
      "\n",
      "Average Engagement per Hourly:\n",
      "Score: created_at\n",
      "2025-03-27 05:00:00    4132.00\n",
      "2025-03-27 06:00:00    1465.38\n",
      "2025-03-27 07:00:00     195.67\n",
      "2025-03-27 08:00:00        NaN\n",
      "2025-03-27 09:00:00    4465.08\n",
      "2025-03-27 10:00:00      52.25\n",
      "2025-03-27 11:00:00     303.83\n",
      "2025-03-27 12:00:00        NaN\n",
      "2025-03-27 13:00:00    1560.00\n",
      "2025-03-27 14:00:00     377.50\n",
      "2025-03-27 15:00:00      34.75\n",
      "2025-03-27 16:00:00     119.00\n",
      "2025-03-27 17:00:00    1492.60\n",
      "2025-03-27 18:00:00     112.54\n",
      "2025-03-27 19:00:00    1406.44\n",
      "2025-03-27 20:00:00     262.45\n",
      "2025-03-27 21:00:00     417.00\n",
      "2025-03-27 22:00:00    1176.62\n",
      "2025-03-27 23:00:00    1790.00\n",
      "2025-03-28 00:00:00     140.71\n",
      "2025-03-28 01:00:00      35.12\n",
      "Freq: H, Name: score, dtype: float64\n",
      "Comments: created_at\n",
      "2025-03-27 05:00:00    108.40\n",
      "2025-03-27 06:00:00    115.75\n",
      "2025-03-27 07:00:00     15.00\n",
      "2025-03-27 08:00:00       NaN\n",
      "2025-03-27 09:00:00    152.58\n",
      "2025-03-27 10:00:00      5.50\n",
      "2025-03-27 11:00:00     53.83\n",
      "2025-03-27 12:00:00       NaN\n",
      "2025-03-27 13:00:00     69.67\n",
      "2025-03-27 14:00:00     60.50\n",
      "2025-03-27 15:00:00      5.50\n",
      "2025-03-27 16:00:00      9.75\n",
      "2025-03-27 17:00:00    127.00\n",
      "2025-03-27 18:00:00     41.25\n",
      "2025-03-27 19:00:00    121.67\n",
      "2025-03-27 20:00:00     44.25\n",
      "2025-03-27 21:00:00      6.25\n",
      "2025-03-27 22:00:00    149.25\n",
      "2025-03-27 23:00:00    413.00\n",
      "2025-03-28 00:00:00     43.00\n",
      "2025-03-28 01:00:00      8.06\n",
      "Freq: H, Name: num_comments, dtype: float64\n"
     ]
    }
   ],
   "source": [
    "# Cell for Interactive Visualizations with Adaptive Time Scaling\n",
    "import plotly.express as px\n",
    "import plotly.graph_objects as go\n",
    "from plotly.subplots import make_subplots\n",
    "from datetime import datetime, timedelta\n",
    "\n",
    "# Read all historical data\n",
    "all_data = spark.read.parquet(\"hdfs://hadoop-master-node:9000/sentiment/results/reddit\").toPandas()\n",
    "\n",
    "# Convert timestamps to datetime\n",
    "all_data['created_at'] = pd.to_datetime(all_data['created_at'])\n",
    "all_data['collected_at'] = pd.to_datetime(all_data['collected_at'])\n",
    "\n",
    "# Calculate date range\n",
    "date_range = (all_data['created_at'].max() - all_data['created_at'].min()).days\n",
    "\n",
    "# Determine appropriate time grouping\n",
    "if date_range <= 2:  # 2 days or less\n",
    "    freq = 'H'\n",
    "    time_unit = 'Hourly'\n",
    "elif date_range <= 30:  # 1 month or less\n",
    "    freq = 'D'\n",
    "    time_unit = 'Daily'\n",
    "elif date_range <= 365:  # 1 year or less\n",
    "    freq = 'W'\n",
    "    time_unit = 'Weekly'\n",
    "else:  # More than a year\n",
    "    freq = 'M'\n",
    "    time_unit = 'Monthly'\n",
    "\n",
    "print(f\"Data spans {date_range} days. Using {time_unit} aggregation.\")\n",
    "\n",
    "# Create figure\n",
    "fig = make_subplots(\n",
    "    rows=2, cols=2,\n",
    "    subplot_titles=(\n",
    "        f'Sentiment Trends ({time_unit})',\n",
    "        'Post Engagement by Sentiment',\n",
    "        'Overall Sentiment Distribution',\n",
    "        f'Sentiment Pattern ({time_unit})'\n",
    "    )\n",
    ")\n",
    "\n",
    "# 1. Sentiment Trend Over Time (Adaptive)\n",
    "# Group by time and sentiment, then pivot\n",
    "trend_data = all_data.groupby([\n",
    "    pd.Grouper(key='created_at', freq=freq),\n",
    "    'sentiment_label'\n",
    "]).size().reset_index(name='count')\n",
    "trend_pivot = trend_data.pivot(\n",
    "    index='created_at',\n",
    "    columns='sentiment_label',\n",
    "    values='count'\n",
    ").fillna(0)\n",
    "\n",
    "# Add trend lines\n",
    "for sentiment in ['positive', 'negative', 'neutral']:\n",
    "    if sentiment in trend_pivot.columns:\n",
    "        fig.add_trace(\n",
    "            go.Scatter(\n",
    "                x=trend_pivot.index,\n",
    "                y=trend_pivot[sentiment],\n",
    "                name=sentiment.capitalize(),\n",
    "                line=dict(color={'positive': 'green', 'negative': 'red', 'neutral': 'gray'}[sentiment]),\n",
    "                mode='lines+markers'\n",
    "            ),\n",
    "            row=1, col=1\n",
    "        )\n",
    "\n",
    "# 2. Engagement by Sentiment (Box Plot)\n",
    "fig.add_trace(\n",
    "    go.Box(\n",
    "        x=all_data['sentiment_label'],\n",
    "        y=all_data['score'],\n",
    "        name='Post Scores',\n",
    "        boxpoints='outliers'\n",
    "    ),\n",
    "    row=1, col=2\n",
    ")\n",
    "\n",
    "# 3. Overall Sentiment Distribution\n",
    "sentiment_counts = all_data['sentiment_label'].value_counts()\n",
    "fig.add_trace(\n",
    "    go.Bar(\n",
    "        x=sentiment_counts.index,\n",
    "        y=sentiment_counts.values,\n",
    "        name='Total Posts',\n",
    "        text=sentiment_counts.values,\n",
    "        textposition='auto',\n",
    "    ),\n",
    "    row=2, col=1\n",
    ")\n",
    "\n",
    "# 4. Time Pattern (Adaptive)\n",
    "if freq == 'H':\n",
    "    # Hourly pattern\n",
    "    pattern_data = all_data.groupby([\n",
    "        all_data['created_at'].dt.hour,\n",
    "        'sentiment_label'\n",
    "    ]).size().reset_index(name='count')\n",
    "    x_title = 'Hour of Day'\n",
    "elif freq == 'D':\n",
    "    # Daily pattern\n",
    "    pattern_data = all_data.groupby([\n",
    "        all_data['created_at'].dt.dayofweek,\n",
    "        'sentiment_label'\n",
    "    ]).size().reset_index(name='count')\n",
    "    x_title = 'Day of Week'\n",
    "else:\n",
    "    # Monthly pattern\n",
    "    pattern_data = all_data.groupby([\n",
    "        all_data['created_at'].dt.month,\n",
    "        'sentiment_label'\n",
    "    ]).size().reset_index(name='count')\n",
    "    x_title = 'Month'\n",
    "\n",
    "pattern_pivot = pattern_data.pivot(\n",
    "    index=pattern_data.columns[0],\n",
    "    columns='sentiment_label',\n",
    "    values='count'\n",
    ").fillna(0)\n",
    "\n",
    "for sentiment in ['positive', 'negative', 'neutral']:\n",
    "    if sentiment in pattern_pivot.columns:\n",
    "        fig.add_trace(\n",
    "            go.Scatter(\n",
    "                x=pattern_pivot.index,\n",
    "                y=pattern_pivot[sentiment],\n",
    "                name=f'{sentiment.capitalize()} ({time_unit})',\n",
    "                line=dict(color={'positive': 'green', 'negative': 'red', 'neutral': 'gray'}[sentiment])\n",
    "            ),\n",
    "            row=2, col=2\n",
    "        )\n",
    "\n",
    "# Update layout\n",
    "fig.update_layout(\n",
    "    height=800,\n",
    "    width=1200,\n",
    "    showlegend=True,\n",
    "    title=dict(\n",
    "        text=f\"Reddit WorldNews Sentiment Analysis Dashboard ({time_unit} View)\",\n",
    "        x=0.5,\n",
    "        y=0.95\n",
    "    ),\n",
    "    legend=dict(\n",
    "        yanchor=\"top\",\n",
    "        y=0.99,\n",
    "        xanchor=\"left\",\n",
    "        x=1.05\n",
    "    ),\n",
    "    hovermode='x unified'\n",
    ")\n",
    "\n",
    "# Update axes labels\n",
    "fig.update_xaxes(title_text=\"Time\", row=1, col=1)\n",
    "fig.update_xaxes(title_text=\"Sentiment\", row=1, col=2)\n",
    "fig.update_xaxes(title_text=\"Sentiment\", row=2, col=1)\n",
    "fig.update_xaxes(title_text=x_title, row=2, col=2)\n",
    "\n",
    "fig.update_yaxes(title_text=\"Number of Posts\", row=1, col=1)\n",
    "fig.update_yaxes(title_text=\"Post Score\", row=1, col=2)\n",
    "fig.update_yaxes(title_text=\"Number of Posts\", row=2, col=1)\n",
    "fig.update_yaxes(title_text=\"Number of Posts\", row=2, col=2)\n",
    "\n",
    "# Add range slider for time series\n",
    "fig.update_xaxes(rangeslider_visible=True, row=1, col=1)\n",
    "\n",
    "# Show the plot\n",
    "fig.show()\n",
    "\n",
    "# Print summary statistics\n",
    "print(f\"\\n📊 {time_unit} Summary:\")\n",
    "print(\"-\" * 50)\n",
    "\n",
    "# Group by time period\n",
    "time_stats = all_data.groupby(pd.Grouper(key='created_at', freq=freq)).agg({\n",
    "    'sentiment_label': lambda x: x.value_counts().to_dict(),\n",
    "    'score': 'mean',\n",
    "    'num_comments': 'mean'\n",
    "})\n",
    "\n",
    "print(f\"\\nSentiment Distribution per {time_unit}:\")\n",
    "print(time_stats['sentiment_label'].head())\n",
    "print(f\"\\nAverage Engagement per {time_unit}:\")\n",
    "print(f\"Score: {time_stats['score'].round(2)}\")\n",
    "print(f\"Comments: {time_stats['num_comments'].round(2)}\")"
   ]
  },
  {
   "cell_type": "code",
   "execution_count": 16,
   "metadata": {},
   "outputs": [
    {
     "name": "stdout",
     "output_type": "stream",
     "text": [
      "\n",
      "📈 Summary Statistics:\n",
      "--------------------------------------------------\n",
      "Total posts collected: 249\n",
      "\n",
      "Sentiment distribution:\n",
      "negative    96\n",
      "neutral     82\n",
      "positive    22\n",
      "Name: sentiment_label, dtype: int64\n",
      "\n",
      "Average scores by sentiment:\n",
      "sentiment_label\n",
      "negative     493.343750\n",
      "neutral     1930.487805\n",
      "positive     197.227273\n",
      "Name: score, dtype: float64\n",
      "\n",
      "Most discussed topics (by comments):\n",
      "                                                 title  num_comments  \\\n",
      "91   Trump says US will 'go as far as we have to' t...          1547   \n",
      "213  Trump says US will 'go as far as we have to' t...          1529   \n",
      "226  Trump Threatens More Tariffs If EU 'Works With...           875   \n",
      "115  Trump Threatens More Tariffs If EU 'Works With...           874   \n",
      "198  France announces $2 billion military aid packa...           739   \n",
      "\n",
      "    sentiment_label  \n",
      "91          neutral  \n",
      "213         neutral  \n",
      "226        negative  \n",
      "115        negative  \n",
      "198         neutral  \n"
     ]
    }
   ],
   "source": [
    "print(\"\\n📈 Summary Statistics:\")\n",
    "print(\"-\" * 50)\n",
    "print(f\"Total posts collected: {len(all_data)}\")\n",
    "print(\"\\nSentiment distribution:\")\n",
    "print(all_data['sentiment_label'].value_counts())\n",
    "print(\"\\nAverage scores by sentiment:\")\n",
    "print(all_data.groupby('sentiment_label')['score'].mean())\n",
    "print(\"\\nMost discussed topics (by comments):\")\n",
    "print(all_data.nlargest(5, 'num_comments')[['title', 'num_comments', 'sentiment_label']])"
   ]
  }
 ],
 "metadata": {
  "kernelspec": {
   "display_name": "sentiment-analysis-env",
   "language": "python",
   "name": "python3"
  },
  "language_info": {
   "codemirror_mode": {
    "name": "ipython",
    "version": 3
   },
   "file_extension": ".py",
   "mimetype": "text/x-python",
   "name": "python",
   "nbconvert_exporter": "python",
   "pygments_lexer": "ipython3",
   "version": "3.10.16"
  }
 },
 "nbformat": 4,
 "nbformat_minor": 2
}
