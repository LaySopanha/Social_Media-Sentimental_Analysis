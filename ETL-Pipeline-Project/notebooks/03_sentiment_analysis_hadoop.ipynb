{
 "cells": [
  {
   "cell_type": "markdown",
   "metadata": {},
   "source": [
    "## Import Library"
   ]
  },
  {
   "cell_type": "code",
   "execution_count": 1,
   "metadata": {},
   "outputs": [],
   "source": [
    "# Import required libraries\n",
    "import os\n",
    "from pyspark.sql import SparkSession\n",
    "import pandas as pd\n",
    "import numpy as np\n",
    "import matplotlib.pyplot as plt\n",
    "import seaborn as sns\n",
    "from vaderSentiment.vaderSentiment import SentimentIntensityAnalyzer\n",
    "from textblob import TextBlob\n",
    "from datetime import datetime\n",
    "from tqdm import tqdm"
   ]
  },
  {
   "cell_type": "code",
   "execution_count": 2,
   "metadata": {},
   "outputs": [],
   "source": [
    "tqdm.pandas()"
   ]
  },
  {
   "cell_type": "markdown",
   "metadata": {},
   "source": [
    "## setup spark session"
   ]
  },
  {
   "cell_type": "code",
   "execution_count": 3,
   "metadata": {},
   "outputs": [
    {
     "name": "stdout",
     "output_type": "stream",
     "text": [
      "✅ Spark Session Created Successfully!\n"
     ]
    }
   ],
   "source": [
    "# Setup Spark environment\n",
    "os.environ[\"SPARK_HOME\"] = \"C:\\\\spark-3.3.2-bin-hadoop3\"\n",
    "os.environ[\"HADOOP_HOME\"] = \"C:\\\\hadoop-3.4.1\"\n",
    "os.environ[\"JAVA_HOME\"] = \"C:\\\\jdk-11.0.26.4-hotspot\"\n",
    "os.environ[\"PATH\"] += f\";{os.environ['SPARK_HOME']}\\\\bin;{os.environ['HADOOP_HOME']}\\\\bin\"\n",
    "\n",
    "# Create Spark session\n",
    "spark = SparkSession.builder \\\n",
    "    .master(\"spark://hadoop-master-node:7077\") \\\n",
    "    .appName(\"SentimentAnalysis\") \\\n",
    "    .config(\"spark.driver.memory\", \"512M\") \\\n",
    "    .config(\"spark.executor.memory\", \"512M\") \\\n",
    "    .config(\"spark.executor.cores\", \"2\") \\\n",
    "    .config(\"spark.driver.host\", \"192.168.1.1\") \\\n",
    "    .getOrCreate()\n",
    "\n",
    "print(\"✅ Spark Session Created Successfully!\")"
   ]
  },
  {
   "cell_type": "markdown",
   "metadata": {},
   "source": [
    "## use spark to read from hadoop"
   ]
  },
  {
   "cell_type": "code",
   "execution_count": 4,
   "metadata": {},
   "outputs": [],
   "source": [
    "# Read preprocessed data from HDFS\n",
    "df_spark = spark.read.csv(\"hdfs://hadoop-master-node:9000/sentiment/processed/twitter\", \n",
    "                         header=True, \n",
    "                         inferSchema=True)"
   ]
  },
  {
   "cell_type": "code",
   "execution_count": 9,
   "metadata": {},
   "outputs": [
    {
     "name": "stdout",
     "output_type": "stream",
     "text": [
      "Data shape: (50000, 8)\n",
      "\n",
      "Columns: ['target', 'id', 'date', 'flag', 'user', 'text', 'cleaned_text', 'sentiment']\n"
     ]
    }
   ],
   "source": [
    "df = df_spark.toPandas()\n",
    "print(\"Data shape:\", df.shape)\n",
    "print(\"\\nColumns:\", df.columns.tolist())\n"
   ]
  },
  {
   "cell_type": "markdown",
   "metadata": {},
   "source": [
    "## Sentiment analysis with pre-train model"
   ]
  },
  {
   "cell_type": "code",
   "execution_count": 10,
   "metadata": {},
   "outputs": [],
   "source": [
    "# Define sentiment analysis functions\n",
    "def analyze_sentiment(text):\n",
    "    \"\"\"Analyze sentiment using VADER\"\"\"\n",
    "    analyzer = SentimentIntensityAnalyzer()\n",
    "    sentiment = analyzer.polarity_scores(str(text))\n",
    "    return sentiment['compound']\n"
   ]
  },
  {
   "cell_type": "code",
   "execution_count": 11,
   "metadata": {},
   "outputs": [],
   "source": [
    "\n",
    "def get_sentiment_label(score):\n",
    "    \"\"\"Convert sentiment score to label\"\"\"\n",
    "    if score >= 0.05:\n",
    "        return 'positive'\n",
    "    elif score <= -0.05:\n",
    "        return 'negative'\n",
    "    else:\n",
    "        return 'neutral'\n"
   ]
  },
  {
   "cell_type": "code",
   "execution_count": 12,
   "metadata": {},
   "outputs": [],
   "source": [
    "\n",
    "def textblob_sentiment(text):\n",
    "    \"\"\"Analyze sentiment using TextBlob\"\"\"\n",
    "    return TextBlob(str(text)).sentiment.polarity"
   ]
  },
  {
   "cell_type": "code",
   "execution_count": 13,
   "metadata": {},
   "outputs": [
    {
     "name": "stdout",
     "output_type": "stream",
     "text": [
      "\n",
      "Applying VADER sentiment analysis...\n"
     ]
    }
   ],
   "source": [
    "# Apply VADER sentiment analysis\n",
    "print(\"\\nApplying VADER sentiment analysis...\")\n",
    "df['vader_score'] = df['cleaned_text'].apply(analyze_sentiment)\n",
    "df['vader_sentiment'] = df['vader_score'].apply(get_sentiment_label)"
   ]
  },
  {
   "cell_type": "code",
   "execution_count": 14,
   "metadata": {},
   "outputs": [
    {
     "name": "stdout",
     "output_type": "stream",
     "text": [
      "Applying TextBlob sentiment analysis...\n"
     ]
    }
   ],
   "source": [
    "# Apply TextBlob sentiment analysis\n",
    "print(\"Applying TextBlob sentiment analysis...\")\n",
    "df['textblob_score'] = df['cleaned_text'].apply(textblob_sentiment)\n",
    "df['textblob_sentiment'] = df['textblob_score'].apply(get_sentiment_label)"
   ]
  },
  {
   "cell_type": "code",
   "execution_count": 15,
   "metadata": {},
   "outputs": [],
   "source": [
    "# Note: Your data has sentiment as -1/1, let's map it to match our labels\n",
    "df['original_sentiment'] = df['sentiment'].map({-1: 'negative', 1: 'positive'})"
   ]
  },
  {
   "cell_type": "code",
   "execution_count": 16,
   "metadata": {},
   "outputs": [],
   "source": [
    "vader_accuracy = (df['vader_sentiment'] == df['original_sentiment']).mean() * 100\n",
    "textblob_accuracy = (df['textblob_sentiment'] == df['original_sentiment']).mean() * 100"
   ]
  },
  {
   "cell_type": "code",
   "execution_count": 17,
   "metadata": {},
   "outputs": [
    {
     "name": "stdout",
     "output_type": "stream",
     "text": [
      "\n",
      "Accuracy Results:\n",
      "VADER Accuracy: 44.11%\n",
      "TextBlob Accuracy: 33.47%\n"
     ]
    }
   ],
   "source": [
    "\n",
    "print(\"\\nAccuracy Results:\")\n",
    "print(f\"VADER Accuracy: {vader_accuracy:.2f}%\")\n",
    "print(f\"TextBlob Accuracy: {textblob_accuracy:.2f}%\")"
   ]
  },
  {
   "cell_type": "code",
   "execution_count": 18,
   "metadata": {},
   "outputs": [
    {
     "data": {
      "image/png": "[encoded data removed]",
      "text/plain": [
       "<Figure size 640x480 with 2 Axes>"
      ]
     },
     "metadata": {},
     "output_type": "display_data"
    }
   ],
   "source": [
    "# VADER Distribution\n",
    "plt.subplot(1, 2, 1)\n",
    "sns.countplot(data=df, x='vader_sentiment')\n",
    "plt.title('VADER Sentiment Distribution')\n",
    "plt.xticks(rotation=45)\n",
    "\n",
    "# TextBlob Distribution\n",
    "plt.subplot(1, 2, 2)\n",
    "sns.countplot(data=df, x='textblob_sentiment')\n",
    "plt.title('TextBlob Sentiment Distribution')\n",
    "plt.xticks(rotation=45)\n",
    "\n",
    "plt.tight_layout()\n",
    "plt.show()"
   ]
  },
  {
   "cell_type": "code",
   "execution_count": 19,
   "metadata": {},
   "outputs": [
    {
     "data": {
      "text/html": [
       "<div>\n",
       "<style scoped>\n",
       "    .dataframe tbody tr th:only-of-type {\n",
       "        vertical-align: middle;\n",
       "    }\n",
       "\n",
       "    .dataframe tbody tr th {\n",
       "        vertical-align: top;\n",
       "    }\n",
       "\n",
       "    .dataframe thead th {\n",
       "        text-align: right;\n",
       "    }\n",
       "</style>\n",
       "<table border=\"1\" class=\"dataframe\">\n",
       "  <thead>\n",
       "    <tr style=\"text-align: right;\">\n",
       "      <th></th>\n",
       "      <th>target</th>\n",
       "      <th>id</th>\n",
       "      <th>date</th>\n",
       "      <th>flag</th>\n",
       "      <th>user</th>\n",
       "      <th>text</th>\n",
       "      <th>cleaned_text</th>\n",
       "      <th>sentiment</th>\n",
       "      <th>vader_score</th>\n",
       "      <th>vader_sentiment</th>\n",
       "      <th>textblob_score</th>\n",
       "      <th>textblob_sentiment</th>\n",
       "      <th>original_sentiment</th>\n",
       "    </tr>\n",
       "  </thead>\n",
       "  <tbody>\n",
       "    <tr>\n",
       "      <th>0</th>\n",
       "      <td>0</td>\n",
       "      <td>2200003196</td>\n",
       "      <td>Tue Jun 16 18:18:12 PDT 2009</td>\n",
       "      <td>NO_QUERY</td>\n",
       "      <td>LaLaLindsey0609</td>\n",
       "      <td>@chrishasboobs AHHH I HOPE YOUR OK!!!</td>\n",
       "      <td>ahhh hope ok</td>\n",
       "      <td>-1</td>\n",
       "      <td>0.6249</td>\n",
       "      <td>positive</td>\n",
       "      <td>0.50000</td>\n",
       "      <td>positive</td>\n",
       "      <td>negative</td>\n",
       "    </tr>\n",
       "    <tr>\n",
       "      <th>1</th>\n",
       "      <td>0</td>\n",
       "      <td>1467998485</td>\n",
       "      <td>Mon Apr 06 23:11:14 PDT 2009</td>\n",
       "      <td>NO_QUERY</td>\n",
       "      <td>sexygrneyes</td>\n",
       "      <td>@misstoriblack cool , i have no tweet apps  fo...</td>\n",
       "      <td>cool tweet app razr</td>\n",
       "      <td>-1</td>\n",
       "      <td>0.3182</td>\n",
       "      <td>positive</td>\n",
       "      <td>0.35000</td>\n",
       "      <td>positive</td>\n",
       "      <td>negative</td>\n",
       "    </tr>\n",
       "    <tr>\n",
       "      <th>2</th>\n",
       "      <td>0</td>\n",
       "      <td>2300048954</td>\n",
       "      <td>Tue Jun 23 13:40:11 PDT 2009</td>\n",
       "      <td>NO_QUERY</td>\n",
       "      <td>sammydearr</td>\n",
       "      <td>@TiannaChaos i know  just family drama. its la...</td>\n",
       "      <td>know famili drama lamehey next time u hang kim...</td>\n",
       "      <td>-1</td>\n",
       "      <td>-0.0772</td>\n",
       "      <td>negative</td>\n",
       "      <td>-0.25000</td>\n",
       "      <td>negative</td>\n",
       "      <td>negative</td>\n",
       "    </tr>\n",
       "    <tr>\n",
       "      <th>3</th>\n",
       "      <td>0</td>\n",
       "      <td>1993474027</td>\n",
       "      <td>Mon Jun 01 10:26:07 PDT 2009</td>\n",
       "      <td>NO_QUERY</td>\n",
       "      <td>Lamb_Leanne</td>\n",
       "      <td>School email won't open  and I have geography ...</td>\n",
       "      <td>school email wont open geographi stuff revis s...</td>\n",
       "      <td>-1</td>\n",
       "      <td>-0.5267</td>\n",
       "      <td>negative</td>\n",
       "      <td>-0.40000</td>\n",
       "      <td>negative</td>\n",
       "      <td>negative</td>\n",
       "    </tr>\n",
       "    <tr>\n",
       "      <th>4</th>\n",
       "      <td>0</td>\n",
       "      <td>2256550904</td>\n",
       "      <td>Sat Jun 20 12:56:51 PDT 2009</td>\n",
       "      <td>NO_QUERY</td>\n",
       "      <td>yogicerdito</td>\n",
       "      <td>upper airways problem</td>\n",
       "      <td>upper airway problem</td>\n",
       "      <td>-1</td>\n",
       "      <td>-0.4019</td>\n",
       "      <td>negative</td>\n",
       "      <td>0.00000</td>\n",
       "      <td>neutral</td>\n",
       "      <td>negative</td>\n",
       "    </tr>\n",
       "    <tr>\n",
       "      <th>...</th>\n",
       "      <td>...</td>\n",
       "      <td>...</td>\n",
       "      <td>...</td>\n",
       "      <td>...</td>\n",
       "      <td>...</td>\n",
       "      <td>...</td>\n",
       "      <td>...</td>\n",
       "      <td>...</td>\n",
       "      <td>...</td>\n",
       "      <td>...</td>\n",
       "      <td>...</td>\n",
       "      <td>...</td>\n",
       "      <td>...</td>\n",
       "    </tr>\n",
       "    <tr>\n",
       "      <th>49995</th>\n",
       "      <td>4</td>\n",
       "      <td>1994250075</td>\n",
       "      <td>Mon Jun 01 11:38:47 PDT 2009</td>\n",
       "      <td>NO_QUERY</td>\n",
       "      <td>pauliinhawinter</td>\n",
       "      <td>@LucasCruikshank you have talent. that's why p...</td>\n",
       "      <td>talent that peopl jealou support fred love fred</td>\n",
       "      <td>1</td>\n",
       "      <td>0.8658</td>\n",
       "      <td>positive</td>\n",
       "      <td>0.50000</td>\n",
       "      <td>positive</td>\n",
       "      <td>positive</td>\n",
       "    </tr>\n",
       "    <tr>\n",
       "      <th>49996</th>\n",
       "      <td>0</td>\n",
       "      <td>2230625674</td>\n",
       "      <td>Thu Jun 18 17:22:40 PDT 2009</td>\n",
       "      <td>NO_QUERY</td>\n",
       "      <td>J1437</td>\n",
       "      <td>frustrated</td>\n",
       "      <td>frustrat</td>\n",
       "      <td>-1</td>\n",
       "      <td>0.0000</td>\n",
       "      <td>neutral</td>\n",
       "      <td>0.00000</td>\n",
       "      <td>neutral</td>\n",
       "      <td>negative</td>\n",
       "    </tr>\n",
       "    <tr>\n",
       "      <th>49997</th>\n",
       "      <td>0</td>\n",
       "      <td>2183723317</td>\n",
       "      <td>Mon Jun 15 14:53:56 PDT 2009</td>\n",
       "      <td>NO_QUERY</td>\n",
       "      <td>brennao</td>\n",
       "      <td>@DataVonTeese Ow fuck!! Tinfoil cuts are horri...</td>\n",
       "      <td>ow fuck tinfoil cut horribl</td>\n",
       "      <td>-1</td>\n",
       "      <td>-0.6808</td>\n",
       "      <td>negative</td>\n",
       "      <td>-0.40000</td>\n",
       "      <td>negative</td>\n",
       "      <td>negative</td>\n",
       "    </tr>\n",
       "    <tr>\n",
       "      <th>49998</th>\n",
       "      <td>0</td>\n",
       "      <td>2229474147</td>\n",
       "      <td>Thu Jun 18 15:46:36 PDT 2009</td>\n",
       "      <td>NO_QUERY</td>\n",
       "      <td>vitorious</td>\n",
       "      <td>&amp;quot;lol Vito. Quite the lala land you're in....</td>\n",
       "      <td>quotlol vito quit lala land your inquot guess ...</td>\n",
       "      <td>-1</td>\n",
       "      <td>0.0000</td>\n",
       "      <td>neutral</td>\n",
       "      <td>-0.15625</td>\n",
       "      <td>negative</td>\n",
       "      <td>negative</td>\n",
       "    </tr>\n",
       "    <tr>\n",
       "      <th>49999</th>\n",
       "      <td>0</td>\n",
       "      <td>2216201461</td>\n",
       "      <td>Wed Jun 17 19:10:11 PDT 2009</td>\n",
       "      <td>NO_QUERY</td>\n",
       "      <td>Bella_Kavner</td>\n",
       "      <td>@MattReeves17 i'm trying too,but it's like she...</td>\n",
       "      <td>im tri toobut like doesnt want us see updat</td>\n",
       "      <td>-1</td>\n",
       "      <td>0.3134</td>\n",
       "      <td>positive</td>\n",
       "      <td>0.00000</td>\n",
       "      <td>neutral</td>\n",
       "      <td>negative</td>\n",
       "    </tr>\n",
       "  </tbody>\n",
       "</table>\n",
       "<p>50000 rows × 13 columns</p>\n",
       "</div>"
      ],
      "text/plain": [
       "       target          id                          date      flag  \\\n",
       "0           0  2200003196  Tue Jun 16 18:18:12 PDT 2009  NO_QUERY   \n",
       "1           0  1467998485  Mon Apr 06 23:11:14 PDT 2009  NO_QUERY   \n",
       "2           0  2300048954  Tue Jun 23 13:40:11 PDT 2009  NO_QUERY   \n",
       "3           0  1993474027  Mon Jun 01 10:26:07 PDT 2009  NO_QUERY   \n",
       "4           0  2256550904  Sat Jun 20 12:56:51 PDT 2009  NO_QUERY   \n",
       "...       ...         ...                           ...       ...   \n",
       "49995       4  1994250075  Mon Jun 01 11:38:47 PDT 2009  NO_QUERY   \n",
       "49996       0  2230625674  Thu Jun 18 17:22:40 PDT 2009  NO_QUERY   \n",
       "49997       0  2183723317  Mon Jun 15 14:53:56 PDT 2009  NO_QUERY   \n",
       "49998       0  2229474147  Thu Jun 18 15:46:36 PDT 2009  NO_QUERY   \n",
       "49999       0  2216201461  Wed Jun 17 19:10:11 PDT 2009  NO_QUERY   \n",
       "\n",
       "                  user                                               text  \\\n",
       "0      LaLaLindsey0609              @chrishasboobs AHHH I HOPE YOUR OK!!!   \n",
       "1          sexygrneyes  @misstoriblack cool , i have no tweet apps  fo...   \n",
       "2           sammydearr  @TiannaChaos i know  just family drama. its la...   \n",
       "3          Lamb_Leanne  School email won't open  and I have geography ...   \n",
       "4          yogicerdito                              upper airways problem   \n",
       "...                ...                                                ...   \n",
       "49995  pauliinhawinter  @LucasCruikshank you have talent. that's why p...   \n",
       "49996            J1437                                         frustrated   \n",
       "49997          brennao  @DataVonTeese Ow fuck!! Tinfoil cuts are horri...   \n",
       "49998        vitorious  &quot;lol Vito. Quite the lala land you're in....   \n",
       "49999     Bella_Kavner  @MattReeves17 i'm trying too,but it's like she...   \n",
       "\n",
       "                                            cleaned_text  sentiment  \\\n",
       "0                                           ahhh hope ok         -1   \n",
       "1                                    cool tweet app razr         -1   \n",
       "2      know famili drama lamehey next time u hang kim...         -1   \n",
       "3      school email wont open geographi stuff revis s...         -1   \n",
       "4                                   upper airway problem         -1   \n",
       "...                                                  ...        ...   \n",
       "49995    talent that peopl jealou support fred love fred          1   \n",
       "49996                                           frustrat         -1   \n",
       "49997                        ow fuck tinfoil cut horribl         -1   \n",
       "49998  quotlol vito quit lala land your inquot guess ...         -1   \n",
       "49999        im tri toobut like doesnt want us see updat         -1   \n",
       "\n",
       "       vader_score vader_sentiment  textblob_score textblob_sentiment  \\\n",
       "0           0.6249        positive         0.50000           positive   \n",
       "1           0.3182        positive         0.35000           positive   \n",
       "2          -0.0772        negative        -0.25000           negative   \n",
       "3          -0.5267        negative        -0.40000           negative   \n",
       "4          -0.4019        negative         0.00000            neutral   \n",
       "...            ...             ...             ...                ...   \n",
       "49995       0.8658        positive         0.50000           positive   \n",
       "49996       0.0000         neutral         0.00000            neutral   \n",
       "49997      -0.6808        negative        -0.40000           negative   \n",
       "49998       0.0000         neutral        -0.15625           negative   \n",
       "49999       0.3134        positive         0.00000            neutral   \n",
       "\n",
       "      original_sentiment  \n",
       "0               negative  \n",
       "1               negative  \n",
       "2               negative  \n",
       "3               negative  \n",
       "4               negative  \n",
       "...                  ...  \n",
       "49995           positive  \n",
       "49996           negative  \n",
       "49997           negative  \n",
       "49998           negative  \n",
       "49999           negative  \n",
       "\n",
       "[50000 rows x 13 columns]"
      ]
     },
     "execution_count": 19,
     "metadata": {},
     "output_type": "execute_result"
    }
   ],
   "source": [
    "df"
   ]
  },
  {
   "cell_type": "markdown",
   "metadata": {},
   "source": [
    "## Save the analyze data back to hadoop using spark"
   ]
  },
  {
   "cell_type": "code",
   "execution_count": null,
   "metadata": {},
   "outputs": [
    {
     "name": "stdout",
     "output_type": "stream",
     "text": [
      "\n",
      "Saving results back to HDFS...\n"
     ]
    },
    {
     "name": "stderr",
     "output_type": "stream",
     "text": [
      "d:\\Download\\Anaconda\\anaconda3\\envs\\sentiment-analysis-env\\lib\\site-packages\\pyspark\\sql\\pandas\\conversion.py:474: FutureWarning: iteritems is deprecated and will be removed in a future version. Use .items instead.\n",
      "  for column, series in pdf.iteritems():\n",
      "d:\\Download\\Anaconda\\anaconda3\\envs\\sentiment-analysis-env\\lib\\site-packages\\pyspark\\sql\\pandas\\conversion.py:486: FutureWarning: iteritems is deprecated and will be removed in a future version. Use .items instead.\n",
      "  for column, series in pdf.iteritems():\n"
     ]
    },
    {
     "name": "stdout",
     "output_type": "stream",
     "text": [
      "✅ Results saved successfully!\n",
      "\n",
      "Example Results:\n",
      "                                        cleaned_text original_sentiment  \\\n",
      "0                                       ahhh hope ok           negative   \n",
      "1                                cool tweet app razr           negative   \n",
      "2  know famili drama lamehey next time u hang kim...           negative   \n",
      "3  school email wont open geographi stuff revis s...           negative   \n",
      "4                               upper airway problem           negative   \n",
      "\n",
      "  vader_sentiment textblob_sentiment  \n",
      "0        positive           positive  \n",
      "1        positive           positive  \n",
      "2        negative           negative  \n",
      "3        negative           negative  \n",
      "4        negative            neutral  \n"
     ]
    }
   ],
   "source": [
    "# Save results back to HDFS\n",
    "print(\"\\nSaving results back to HDFS...\")\n",
    "result_spark_df = spark.createDataFrame(df)\n",
    "result_spark_df.write.mode('overwrite').parquet(\"hdfs://hadoop-master-node:9000/sentiment/results/twitter\")\n",
    "print(\"✅ Results saved successfully!\")\n",
    "\n",
    "# Display some example results\n",
    "print(\"\\nExample Results:\")\n",
    "sample_results = df[['cleaned_text', 'original_sentiment', 'vader_sentiment', 'textblob_sentiment']].head()\n",
    "sample_results"
   ]
  }
 ],
 "metadata": {
  "kernelspec": {
   "display_name": "sentiment-analysis-env",
   "language": "python",
   "name": "python3"
  },
  "language_info": {
   "codemirror_mode": {
    "name": "ipython",
    "version": 3
   },
   "file_extension": ".py",
   "mimetype": "text/x-python",
   "name": "python",
   "nbconvert_exporter": "python",
   "pygments_lexer": "ipython3",
   "version": "3.10.16"
  }
 },
 "nbformat": 4,
 "nbformat_minor": 2
}
