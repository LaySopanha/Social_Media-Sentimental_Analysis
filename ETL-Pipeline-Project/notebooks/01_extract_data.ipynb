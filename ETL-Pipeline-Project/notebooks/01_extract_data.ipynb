{
 "cells": [
  {
   "cell_type": "code",
   "execution_count": 1,
   "metadata": {},
   "outputs": [],
   "source": [
    "import praw\n",
    "import pandas as pd\n",
    "import time"
   ]
  },
  {
   "cell_type": "code",
   "execution_count": 2,
   "metadata": {},
   "outputs": [],
   "source": [
    "reddit = praw.Reddit(\n",
    "    client_id = '-_LwwR2GAkBuc-mvHUVSEQ',\n",
    "    client_secret = '5X25s7-NfqlEnlstXzdvHwWEKyyMfw',\n",
    "    user_agent = 'Social Media Sentiment Analysis v1.0 by /u/Massive_Strategy75'\n",
    ")"
   ]
  },
  {
   "cell_type": "code",
   "execution_count": 3,
   "metadata": {},
   "outputs": [],
   "source": [
    "def fetch_posts():\n",
    "    posts = reddit.subreddit('WorldNews').search('world', limit = 100)\n",
    "    # post_list = list(posts)\n",
    "    return posts"
   ]
  },
  {
   "cell_type": "code",
   "execution_count": 19,
   "metadata": {},
   "outputs": [],
   "source": [
    "def check_rate_limit():\n",
    "    while True:\n",
    "        try:\n",
    "            posts = fetch_posts()\n",
    "            print(f\"Fetched {len(posts)} posts\")\n",
    "            break\n",
    "        except praw.exceptions.PRAWException as e:\n",
    "            print(f\"Rate limit exceeded. Waiting... Error: {e}\")\n",
    "            time.sleep(60)\n",
    "            continue"
   ]
  },
  {
   "cell_type": "code",
   "execution_count": null,
   "metadata": {},
   "outputs": [],
   "source": [
    "def fetch_and_store():\n",
    "    posts = reddit.subreddit('')"
   ]
  },
  {
   "cell_type": "code",
   "execution_count": 8,
   "metadata": {},
   "outputs": [],
   "source": [
    "posts = fetch_posts()"
   ]
  },
  {
   "cell_type": "code",
   "execution_count": null,
   "metadata": {},
   "outputs": [
    {
     "ename": "NameError",
     "evalue": "name 'check_rate_limit' is not defined",
     "output_type": "error",
     "traceback": [
      "\u001b[1;31m---------------------------------------------------------------------------\u001b[0m",
      "\u001b[1;31mNameError\u001b[0m                                 Traceback (most recent call last)",
      "Cell \u001b[1;32mIn[7], line 1\u001b[0m\n\u001b[1;32m----> 1\u001b[0m posts \u001b[38;5;241m=\u001b[39m \u001b[43mcheck_rate_limit\u001b[49m()\n",
      "\u001b[1;31mNameError\u001b[0m: name 'check_rate_limit' is not defined"
     ]
    }
   ],
   "source": [
    "check_rate_limit()"
   ]
  },
  {
   "cell_type": "code",
   "execution_count": 9,
   "metadata": {},
   "outputs": [],
   "source": [
    "world_news_data = []"
   ]
  },
  {
   "cell_type": "code",
   "execution_count": 10,
   "metadata": {},
   "outputs": [],
   "source": [
    "for post in posts:\n",
    "    world_news_data.append({\n",
    "        \"title\" : post.title,\n",
    "        \"score\": post.score,\n",
    "        \"create_at\": post.created_utc,\n",
    "        \"url\" : post.url,\n",
    "        \"num_comments\" : post.num_comments,\n",
    "    })"
   ]
  },
  {
   "cell_type": "code",
   "execution_count": 11,
   "metadata": {},
   "outputs": [],
   "source": [
    "df_world_news = pd.DataFrame(world_news_data)"
   ]
  },
  {
   "cell_type": "code",
   "execution_count": 12,
   "metadata": {},
   "outputs": [
    {
     "data": {
      "text/html": [
       "<div>\n",
       "<style scoped>\n",
       "    .dataframe tbody tr th:only-of-type {\n",
       "        vertical-align: middle;\n",
       "    }\n",
       "\n",
       "    .dataframe tbody tr th {\n",
       "        vertical-align: top;\n",
       "    }\n",
       "\n",
       "    .dataframe thead th {\n",
       "        text-align: right;\n",
       "    }\n",
       "</style>\n",
       "<table border=\"1\" class=\"dataframe\">\n",
       "  <thead>\n",
       "    <tr style=\"text-align: right;\">\n",
       "      <th></th>\n",
       "      <th>title</th>\n",
       "      <th>score</th>\n",
       "      <th>create_at</th>\n",
       "      <th>url</th>\n",
       "      <th>num_comments</th>\n",
       "    </tr>\n",
       "  </thead>\n",
       "  <tbody>\n",
       "    <tr>\n",
       "      <th>0</th>\n",
       "      <td>Nobody Is Safe’: Canada Sends World a Warning ...</td>\n",
       "      <td>27711</td>\n",
       "      <td>1.741856e+09</td>\n",
       "      <td>https://www.thedailybeast.com/nobody-is-safe-c...</td>\n",
       "      <td>1623</td>\n",
       "    </tr>\n",
       "    <tr>\n",
       "      <th>1</th>\n",
       "      <td>Hamas will not free all hostages now, calls fo...</td>\n",
       "      <td>36679</td>\n",
       "      <td>1.739414e+09</td>\n",
       "      <td>https://www.ynetnews.com/article/b1quhy9t1x</td>\n",
       "      <td>3104</td>\n",
       "    </tr>\n",
       "    <tr>\n",
       "      <th>2</th>\n",
       "      <td>After clashing with Trump and Vance, Zelensky ...</td>\n",
       "      <td>46142</td>\n",
       "      <td>1.740807e+09</td>\n",
       "      <td>https://www.hindustantimes.com/world-news/us-n...</td>\n",
       "      <td>1083</td>\n",
       "    </tr>\n",
       "    <tr>\n",
       "      <th>3</th>\n",
       "      <td>Trump Withdraws U.S. from World Health Organiz...</td>\n",
       "      <td>33892</td>\n",
       "      <td>1.737423e+09</td>\n",
       "      <td>https://www.nytimes.com/2025/01/20/us/politics...</td>\n",
       "      <td>3210</td>\n",
       "    </tr>\n",
       "    <tr>\n",
       "      <th>4</th>\n",
       "      <td>World leaders head to Ukraine as Trump cozies ...</td>\n",
       "      <td>27781</td>\n",
       "      <td>1.740084e+09</td>\n",
       "      <td>https://www.politico.eu/article/world-leaders-...</td>\n",
       "      <td>1233</td>\n",
       "    </tr>\n",
       "    <tr>\n",
       "      <th>...</th>\n",
       "      <td>...</td>\n",
       "      <td>...</td>\n",
       "      <td>...</td>\n",
       "      <td>...</td>\n",
       "      <td>...</td>\n",
       "    </tr>\n",
       "    <tr>\n",
       "      <th>95</th>\n",
       "      <td>Putin declares he’s building a ''democratic wo...</td>\n",
       "      <td>38975</td>\n",
       "      <td>1.660676e+09</td>\n",
       "      <td>https://www.pravda.com.ua/eng/news/2022/08/16/...</td>\n",
       "      <td>2949</td>\n",
       "    </tr>\n",
       "    <tr>\n",
       "      <th>96</th>\n",
       "      <td>‘Zoe’ Becomes the World’s First Named Heat Wave</td>\n",
       "      <td>60493</td>\n",
       "      <td>1.658936e+09</td>\n",
       "      <td>https://www.scientificamerican.com/article/zoe...</td>\n",
       "      <td>2301</td>\n",
       "    </tr>\n",
       "    <tr>\n",
       "      <th>97</th>\n",
       "      <td>Justin Trudeau says world should be worried ab...</td>\n",
       "      <td>5900</td>\n",
       "      <td>1.697952e+09</td>\n",
       "      <td>https://www.hindustantimes.com/world-news/just...</td>\n",
       "      <td>1347</td>\n",
       "    </tr>\n",
       "    <tr>\n",
       "      <th>98</th>\n",
       "      <td>Ukraine will defend itself by attacking Russia...</td>\n",
       "      <td>78974</td>\n",
       "      <td>1.651151e+09</td>\n",
       "      <td>https://www.pravda.com.ua/eng/news/2022/04/28/...</td>\n",
       "      <td>3676</td>\n",
       "    </tr>\n",
       "    <tr>\n",
       "      <th>99</th>\n",
       "      <td>/r/WorldNews Live Thread: Russian Invasion of ...</td>\n",
       "      <td>5403</td>\n",
       "      <td>1.687587e+09</td>\n",
       "      <td>https://www.reddit.com/live/18hnzysb1elcs</td>\n",
       "      <td>9241</td>\n",
       "    </tr>\n",
       "  </tbody>\n",
       "</table>\n",
       "<p>100 rows × 5 columns</p>\n",
       "</div>"
      ],
      "text/plain": [
       "                                                title  score     create_at  \\\n",
       "0   Nobody Is Safe’: Canada Sends World a Warning ...  27711  1.741856e+09   \n",
       "1   Hamas will not free all hostages now, calls fo...  36679  1.739414e+09   \n",
       "2   After clashing with Trump and Vance, Zelensky ...  46142  1.740807e+09   \n",
       "3   Trump Withdraws U.S. from World Health Organiz...  33892  1.737423e+09   \n",
       "4   World leaders head to Ukraine as Trump cozies ...  27781  1.740084e+09   \n",
       "..                                                ...    ...           ...   \n",
       "95  Putin declares he’s building a ''democratic wo...  38975  1.660676e+09   \n",
       "96    ‘Zoe’ Becomes the World’s First Named Heat Wave  60493  1.658936e+09   \n",
       "97  Justin Trudeau says world should be worried ab...   5900  1.697952e+09   \n",
       "98  Ukraine will defend itself by attacking Russia...  78974  1.651151e+09   \n",
       "99  /r/WorldNews Live Thread: Russian Invasion of ...   5403  1.687587e+09   \n",
       "\n",
       "                                                  url  num_comments  \n",
       "0   https://www.thedailybeast.com/nobody-is-safe-c...          1623  \n",
       "1         https://www.ynetnews.com/article/b1quhy9t1x          3104  \n",
       "2   https://www.hindustantimes.com/world-news/us-n...          1083  \n",
       "3   https://www.nytimes.com/2025/01/20/us/politics...          3210  \n",
       "4   https://www.politico.eu/article/world-leaders-...          1233  \n",
       "..                                                ...           ...  \n",
       "95  https://www.pravda.com.ua/eng/news/2022/08/16/...          2949  \n",
       "96  https://www.scientificamerican.com/article/zoe...          2301  \n",
       "97  https://www.hindustantimes.com/world-news/just...          1347  \n",
       "98  https://www.pravda.com.ua/eng/news/2022/04/28/...          3676  \n",
       "99          https://www.reddit.com/live/18hnzysb1elcs          9241  \n",
       "\n",
       "[100 rows x 5 columns]"
      ]
     },
     "execution_count": 12,
     "metadata": {},
     "output_type": "execute_result"
    }
   ],
   "source": [
    "df_world_news"
   ]
  }
 ],
 "metadata": {
  "kernelspec": {
   "display_name": "sentiment-analysis-env",
   "language": "python",
   "name": "python3"
  },
  "language_info": {
   "codemirror_mode": {
    "name": "ipython",
    "version": 3
   },
   "file_extension": ".py",
   "mimetype": "text/x-python",
   "name": "python",
   "nbconvert_exporter": "python",
   "pygments_lexer": "ipython3",
   "version": "3.10.16"
  }
 },
 "nbformat": 4,
 "nbformat_minor": 2
}
