{
 "cells": [
  {
   "cell_type": "code",
   "execution_count": 1,
   "metadata": {},
   "outputs": [],
   "source": [
    "import praw\n",
    "import pandas as pd\n",
    "import time"
   ]
  },
  {
   "cell_type": "code",
   "execution_count": 2,
   "metadata": {},
   "outputs": [],
   "source": [
    "reddit = praw.Reddit(\n",
    "    client_id = '-_LwwR2GAkBuc-mvHUVSEQ',\n",
    "    client_secret = '5X25s7-NfqlEnlstXzdvHwWEKyyMfw',\n",
    "    user_agent = 'Social Media Sentiment Analysis v1.0 by /u/Massive_Strategy75'\n",
    ")"
   ]
  },
  {
   "cell_type": "code",
   "execution_count": 3,
   "metadata": {},
   "outputs": [],
   "source": [
    "def fetch_posts():\n",
    "    posts = reddit.subreddit('WorldNews').search('world', limit = 100)\n",
    "    # post_list = list(posts)\n",
    "    return posts"
   ]
  },
  {
   "cell_type": "code",
   "execution_count": 13,
   "metadata": {},
   "outputs": [],
   "source": [
    "def check_rate_limit():\n",
    "    while True:\n",
    "        try:\n",
    "            posts = fetch_posts()\n",
    "            break\n",
    "        except praw.exceptions.PRAWException as e:\n",
    "            print(f\"Rate limit exceeded. Waiting... Error: {e}\")\n",
    "            time.sleep(60)\n",
    "            continue"
   ]
  },
  {
   "cell_type": "code",
   "execution_count": 14,
   "metadata": {},
   "outputs": [],
   "source": [
    "def fetch_and_store():\n",
    "    posts = reddit.subreddit('')"
   ]
  },
  {
   "cell_type": "code",
   "execution_count": 15,
   "metadata": {},
   "outputs": [],
   "source": [
    "posts = fetch_posts()"
   ]
  },
  {
   "cell_type": "code",
   "execution_count": 16,
   "metadata": {},
   "outputs": [],
   "source": [
    "check_rate_limit()"
   ]
  },
  {
   "cell_type": "code",
   "execution_count": 17,
   "metadata": {},
   "outputs": [],
   "source": [
    "world_news_data = []"
   ]
  },
  {
   "cell_type": "code",
   "execution_count": 18,
   "metadata": {},
   "outputs": [],
   "source": [
    "for post in posts:\n",
    "    world_news_data.append({\n",
    "        \"title\" : post.title,\n",
    "        \"score\": post.score,\n",
    "        \"create_at\": post.created_utc,\n",
    "        \"url\" : post.url,\n",
    "        \"num_comments\" : post.num_comments,\n",
    "    })"
   ]
  },
  {
   "cell_type": "code",
   "execution_count": 10,
   "metadata": {},
   "outputs": [],
   "source": [
    "df_world_news = pd.DataFrame(world_news_data)"
   ]
  },
  {
   "cell_type": "code",
   "execution_count": 11,
   "metadata": {},
   "outputs": [
    {
     "data": {
      "text/html": [
       "<div>\n",
       "<style scoped>\n",
       "    .dataframe tbody tr th:only-of-type {\n",
       "        vertical-align: middle;\n",
       "    }\n",
       "\n",
       "    .dataframe tbody tr th {\n",
       "        vertical-align: top;\n",
       "    }\n",
       "\n",
       "    .dataframe thead th {\n",
       "        text-align: right;\n",
       "    }\n",
       "</style>\n",
       "<table border=\"1\" class=\"dataframe\">\n",
       "  <thead>\n",
       "    <tr style=\"text-align: right;\">\n",
       "      <th></th>\n",
       "      <th>title</th>\n",
       "      <th>score</th>\n",
       "      <th>create_at</th>\n",
       "      <th>url</th>\n",
       "      <th>num_comments</th>\n",
       "    </tr>\n",
       "  </thead>\n",
       "  <tbody>\n",
       "    <tr>\n",
       "      <th>0</th>\n",
       "      <td>Nobody Is Safe’: Canada Sends World a Warning ...</td>\n",
       "      <td>27709</td>\n",
       "      <td>1.741856e+09</td>\n",
       "      <td>https://www.thedailybeast.com/nobody-is-safe-c...</td>\n",
       "      <td>1613</td>\n",
       "    </tr>\n",
       "    <tr>\n",
       "      <th>1</th>\n",
       "      <td>Hamas will not free all hostages now, calls fo...</td>\n",
       "      <td>36668</td>\n",
       "      <td>1.739414e+09</td>\n",
       "      <td>https://www.ynetnews.com/article/b1quhy9t1x</td>\n",
       "      <td>3103</td>\n",
       "    </tr>\n",
       "    <tr>\n",
       "      <th>2</th>\n",
       "      <td>Trump Withdraws U.S. from World Health Organiz...</td>\n",
       "      <td>33888</td>\n",
       "      <td>1.737423e+09</td>\n",
       "      <td>https://www.nytimes.com/2025/01/20/us/politics...</td>\n",
       "      <td>3209</td>\n",
       "    </tr>\n",
       "    <tr>\n",
       "      <th>3</th>\n",
       "      <td>After clashing with Trump and Vance, Zelensky ...</td>\n",
       "      <td>46149</td>\n",
       "      <td>1.740807e+09</td>\n",
       "      <td>https://www.hindustantimes.com/world-news/us-n...</td>\n",
       "      <td>1074</td>\n",
       "    </tr>\n",
       "    <tr>\n",
       "      <th>4</th>\n",
       "      <td>World leaders head to Ukraine as Trump cozies ...</td>\n",
       "      <td>27783</td>\n",
       "      <td>1.740084e+09</td>\n",
       "      <td>https://www.politico.eu/article/world-leaders-...</td>\n",
       "      <td>1232</td>\n",
       "    </tr>\n",
       "    <tr>\n",
       "      <th>...</th>\n",
       "      <td>...</td>\n",
       "      <td>...</td>\n",
       "      <td>...</td>\n",
       "      <td>...</td>\n",
       "      <td>...</td>\n",
       "    </tr>\n",
       "    <tr>\n",
       "      <th>95</th>\n",
       "      <td>Putin declares he’s building a ''democratic wo...</td>\n",
       "      <td>38973</td>\n",
       "      <td>1.660676e+09</td>\n",
       "      <td>https://www.pravda.com.ua/eng/news/2022/08/16/...</td>\n",
       "      <td>2949</td>\n",
       "    </tr>\n",
       "    <tr>\n",
       "      <th>96</th>\n",
       "      <td>‘Zoe’ Becomes the World’s First Named Heat Wave</td>\n",
       "      <td>60504</td>\n",
       "      <td>1.658936e+09</td>\n",
       "      <td>https://www.scientificamerican.com/article/zoe...</td>\n",
       "      <td>2300</td>\n",
       "    </tr>\n",
       "    <tr>\n",
       "      <th>97</th>\n",
       "      <td>Justin Trudeau says world should be worried ab...</td>\n",
       "      <td>5907</td>\n",
       "      <td>1.697952e+09</td>\n",
       "      <td>https://www.hindustantimes.com/world-news/just...</td>\n",
       "      <td>1347</td>\n",
       "    </tr>\n",
       "    <tr>\n",
       "      <th>98</th>\n",
       "      <td>Ukraine will defend itself by attacking Russia...</td>\n",
       "      <td>78979</td>\n",
       "      <td>1.651151e+09</td>\n",
       "      <td>https://www.pravda.com.ua/eng/news/2022/04/28/...</td>\n",
       "      <td>3676</td>\n",
       "    </tr>\n",
       "    <tr>\n",
       "      <th>99</th>\n",
       "      <td>A massive leak from one of the world’s biggest...</td>\n",
       "      <td>138002</td>\n",
       "      <td>1.645377e+09</td>\n",
       "      <td>https://www.theguardian.com/news/2022/feb/20/c...</td>\n",
       "      <td>4905</td>\n",
       "    </tr>\n",
       "  </tbody>\n",
       "</table>\n",
       "<p>100 rows × 5 columns</p>\n",
       "</div>"
      ],
      "text/plain": [
       "                                                title   score     create_at  \\\n",
       "0   Nobody Is Safe’: Canada Sends World a Warning ...   27709  1.741856e+09   \n",
       "1   Hamas will not free all hostages now, calls fo...   36668  1.739414e+09   \n",
       "2   Trump Withdraws U.S. from World Health Organiz...   33888  1.737423e+09   \n",
       "3   After clashing with Trump and Vance, Zelensky ...   46149  1.740807e+09   \n",
       "4   World leaders head to Ukraine as Trump cozies ...   27783  1.740084e+09   \n",
       "..                                                ...     ...           ...   \n",
       "95  Putin declares he’s building a ''democratic wo...   38973  1.660676e+09   \n",
       "96    ‘Zoe’ Becomes the World’s First Named Heat Wave   60504  1.658936e+09   \n",
       "97  Justin Trudeau says world should be worried ab...    5907  1.697952e+09   \n",
       "98  Ukraine will defend itself by attacking Russia...   78979  1.651151e+09   \n",
       "99  A massive leak from one of the world’s biggest...  138002  1.645377e+09   \n",
       "\n",
       "                                                  url  num_comments  \n",
       "0   https://www.thedailybeast.com/nobody-is-safe-c...          1613  \n",
       "1         https://www.ynetnews.com/article/b1quhy9t1x          3103  \n",
       "2   https://www.nytimes.com/2025/01/20/us/politics...          3209  \n",
       "3   https://www.hindustantimes.com/world-news/us-n...          1074  \n",
       "4   https://www.politico.eu/article/world-leaders-...          1232  \n",
       "..                                                ...           ...  \n",
       "95  https://www.pravda.com.ua/eng/news/2022/08/16/...          2949  \n",
       "96  https://www.scientificamerican.com/article/zoe...          2300  \n",
       "97  https://www.hindustantimes.com/world-news/just...          1347  \n",
       "98  https://www.pravda.com.ua/eng/news/2022/04/28/...          3676  \n",
       "99  https://www.theguardian.com/news/2022/feb/20/c...          4905  \n",
       "\n",
       "[100 rows x 5 columns]"
      ]
     },
     "execution_count": 11,
     "metadata": {},
     "output_type": "execute_result"
    }
   ],
   "source": [
    "df_world_news"
   ]
  }
 ],
 "metadata": {
  "kernelspec": {
   "display_name": "sentiment-analysis-env",
   "language": "python",
   "name": "python3"
  },
  "language_info": {
   "codemirror_mode": {
    "name": "ipython",
    "version": 3
   },
   "file_extension": ".py",
   "mimetype": "text/x-python",
   "name": "python",
   "nbconvert_exporter": "python",
   "pygments_lexer": "ipython3",
   "version": "3.10.16"
  }
 },
 "nbformat": 4,
 "nbformat_minor": 2
}
